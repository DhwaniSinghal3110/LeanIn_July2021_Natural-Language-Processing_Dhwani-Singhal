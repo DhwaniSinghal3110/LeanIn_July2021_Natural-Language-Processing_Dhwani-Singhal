{
  "nbformat": 4,
  "nbformat_minor": 0,
  "metadata": {
    "colab": {
      "name": "LeanIn_Word_Embedding_Assignment.ipynb",
      "provenance": []
    },
    "kernelspec": {
      "name": "python3",
      "display_name": "Python 3"
    },
    "language_info": {
      "name": "python"
    }
  },
  "cells": [
    {
      "cell_type": "markdown",
      "metadata": {
        "id": "xQs0G5oyUzCA"
      },
      "source": [
        "# DOWNLOAD THE TEXT CORPUS"
      ]
    },
    {
      "cell_type": "code",
      "metadata": {
        "colab": {
          "base_uri": "https://localhost:8080/"
        },
        "id": "fGFI5iYzUrcp",
        "outputId": "d2eeeca9-d4d9-4487-e451-d7349e055ae9"
      },
      "source": [
        "!wget http://mattmahoney.net/dc/text8.zip -O text8.gz\n",
        "!gzip -d text8.gz -f"
      ],
      "execution_count": 1,
      "outputs": [
        {
          "output_type": "stream",
          "text": [
            "--2021-08-19 04:47:56--  http://mattmahoney.net/dc/text8.zip\n",
            "Resolving mattmahoney.net (mattmahoney.net)... 67.195.197.24\n",
            "Connecting to mattmahoney.net (mattmahoney.net)|67.195.197.24|:80... connected.\n",
            "HTTP request sent, awaiting response... 200 OK\n",
            "Length: 31344016 (30M) [application/zip]\n",
            "Saving to: ‘text8.gz’\n",
            "\n",
            "text8.gz            100%[===================>]  29.89M   874KB/s    in 35s     \n",
            "\n",
            "2021-08-19 04:48:32 (863 KB/s) - ‘text8.gz’ saved [31344016/31344016]\n",
            "\n"
          ],
          "name": "stdout"
        }
      ]
    },
    {
      "cell_type": "markdown",
      "metadata": {
        "id": "nBZlWfTEV57Q"
      },
      "source": [
        "# word2vec"
      ]
    },
    {
      "cell_type": "markdown",
      "metadata": {
        "id": "pGnzkzBnWHcX"
      },
      "source": [
        "## Train word2vec\n"
      ]
    },
    {
      "cell_type": "code",
      "metadata": {
        "colab": {
          "base_uri": "https://localhost:8080/"
        },
        "id": "eZozpBYeWQpp",
        "outputId": "c0b3aeba-d84c-4736-a24b-baf5534230d1"
      },
      "source": [
        "!pip install gensim"
      ],
      "execution_count": 2,
      "outputs": [
        {
          "output_type": "stream",
          "text": [
            "Requirement already satisfied: gensim in /usr/local/lib/python3.7/dist-packages (3.6.0)\n",
            "Requirement already satisfied: numpy>=1.11.3 in /usr/local/lib/python3.7/dist-packages (from gensim) (1.19.5)\n",
            "Requirement already satisfied: smart-open>=1.2.1 in /usr/local/lib/python3.7/dist-packages (from gensim) (5.1.0)\n",
            "Requirement already satisfied: six>=1.5.0 in /usr/local/lib/python3.7/dist-packages (from gensim) (1.15.0)\n",
            "Requirement already satisfied: scipy>=0.18.1 in /usr/local/lib/python3.7/dist-packages (from gensim) (1.4.1)\n"
          ],
          "name": "stdout"
        }
      ]
    },
    {
      "cell_type": "code",
      "metadata": {
        "id": "5K7H6HomWctJ"
      },
      "source": [
        "from gensim import utils\n",
        "\n",
        "with open('/content/text8','r') as file:\n",
        "  documents = file.readlines()\n",
        "\n",
        "class MyCorpus(object):\n",
        "    def __iter__(self): \n",
        "        for line in documents:\n",
        "            yield utils.simple_preprocess(line)"
      ],
      "execution_count": 3,
      "outputs": []
    },
    {
      "cell_type": "code",
      "metadata": {
        "id": "jTzud72bW53H"
      },
      "source": [
        "import gensim.models\n",
        "sentences = MyCorpus()\n",
        "CBoWModel = gensim.models.Word2Vec(sentences=sentences,\n",
        "                                       sg = 0,    \n",
        "                                       window = 10,\n",
        "                                       size=100,\n",
        "                                       min_count = 5,\n",
        "                                       workers=16,\n",
        "                                       iter = 18)"
      ],
      "execution_count": 4,
      "outputs": []
    },
    {
      "cell_type": "code",
      "metadata": {
        "colab": {
          "base_uri": "https://localhost:8080/"
        },
        "id": "eRl24pGwXRTy",
        "outputId": "a5893f3c-11bb-4991-d9d9-4942c557cbe9"
      },
      "source": [
        "len(CBoWModel.wv.vocab.keys())"
      ],
      "execution_count": 5,
      "outputs": [
        {
          "output_type": "execute_result",
          "data": {
            "text/plain": [
              "70965"
            ]
          },
          "metadata": {},
          "execution_count": 5
        }
      ]
    },
    {
      "cell_type": "code",
      "metadata": {
        "colab": {
          "base_uri": "https://localhost:8080/"
        },
        "id": "amPyJL_PXdxg",
        "outputId": "61f19948-6cab-4ed5-cd30-c49999c73ab6"
      },
      "source": [
        "# get vector for a word\n",
        "CBoWModel.wv.get_vector('god')"
      ],
      "execution_count": 6,
      "outputs": [
        {
          "output_type": "execute_result",
          "data": {
            "text/plain": [
              "array([-0.15399843,  0.09022599,  0.30945295, -0.07111701,  0.12193686,\n",
              "       -0.00037566,  0.06300254,  0.07947888,  0.06284299, -0.03162529,\n",
              "        0.13438408,  0.00337701,  0.12903976, -0.02058399, -0.12209886,\n",
              "       -0.02763083, -0.08785211, -0.01072947, -0.0721125 ,  0.18494573,\n",
              "        0.09609465,  0.03661953,  0.1065132 , -0.05657565,  0.11854696,\n",
              "       -0.08992825,  0.0489223 ,  0.15656175,  0.12519139,  0.03536   ,\n",
              "       -0.08771522,  0.03354008,  0.13986701,  0.09598158,  0.09977074,\n",
              "        0.21826094, -0.20031042,  0.03265378, -0.27219924,  0.20722032,\n",
              "       -0.27942374, -0.06308457,  0.00288361, -0.12157365,  0.03568288,\n",
              "        0.03692308,  0.06353854,  0.20876816,  0.00214606, -0.15717643,\n",
              "        0.09888441,  0.0209484 ,  0.05393324,  0.06295133, -0.08126391,\n",
              "       -0.12099317,  0.01353336,  0.051792  , -0.03661415,  0.02351845,\n",
              "       -0.06987565,  0.16171025, -0.01356991, -0.04619968, -0.09960846,\n",
              "        0.10341901, -0.02509256,  0.06423491,  0.00074572, -0.05217509,\n",
              "       -0.19423392, -0.1402204 ,  0.11695236, -0.05417422, -0.09116558,\n",
              "       -0.25194007,  0.3399437 ,  0.08492646, -0.050383  ,  0.07842228,\n",
              "        0.02462457, -0.14511779, -0.08862005,  0.01175249, -0.01371787,\n",
              "       -0.00327472,  0.15525027,  0.01733347, -0.1916627 , -0.0585962 ,\n",
              "        0.00665996, -0.3140802 , -0.01743458, -0.10357118, -0.02890555,\n",
              "        0.07021519, -0.12026805, -0.05806285, -0.01976842, -0.07411028],\n",
              "      dtype=float32)"
            ]
          },
          "metadata": {},
          "execution_count": 6
        }
      ]
    },
    {
      "cell_type": "code",
      "metadata": {
        "colab": {
          "base_uri": "https://localhost:8080/"
        },
        "id": "14vRuq8yXlY-",
        "outputId": "2b4e8b86-2c47-41a2-f604-82605b7d0ca9"
      },
      "source": [
        "CBoWModel.wv.most_similar('good',topn=4)"
      ],
      "execution_count": 7,
      "outputs": [
        {
          "output_type": "execute_result",
          "data": {
            "text/plain": [
              "[('language', 0.9997063279151917),\n",
              " ('from', 0.9997049570083618),\n",
              " ('or', 0.9997001886367798),\n",
              " ('more', 0.999699592590332)]"
            ]
          },
          "metadata": {},
          "execution_count": 7
        }
      ]
    },
    {
      "cell_type": "markdown",
      "metadata": {
        "id": "FfWkX0ona9Mi"
      },
      "source": [
        "## Pretrained Word2Vec Model\n",
        "\n",
        "Pretrained word2vec model is released by Google. It is trained on Google News corpus. "
      ]
    },
    {
      "cell_type": "code",
      "metadata": {
        "colab": {
          "base_uri": "https://localhost:8080/"
        },
        "id": "fSRfWSHibVCY",
        "outputId": "0e9683b2-8761-4de1-f23f-24bea2481580"
      },
      "source": [
        "import gensim.downloader as api\n",
        "\n",
        "model = api.load('word2vec-google-news-300')"
      ],
      "execution_count": 8,
      "outputs": [
        {
          "output_type": "stream",
          "text": [
            "[==================================================] 100.0% 1662.8/1662.8MB downloaded\n"
          ],
          "name": "stdout"
        }
      ]
    },
    {
      "cell_type": "markdown",
      "metadata": {
        "id": "a6F3scKRfrcC"
      },
      "source": [
        "## Word Similarity"
      ]
    },
    {
      "cell_type": "code",
      "metadata": {
        "colab": {
          "base_uri": "https://localhost:8080/"
        },
        "id": "6XWW2nC6fujD",
        "outputId": "c5abe122-ae30-457b-8937-fa7de1bbb12c"
      },
      "source": [
        "!pip install sklearn"
      ],
      "execution_count": 9,
      "outputs": [
        {
          "output_type": "stream",
          "text": [
            "Requirement already satisfied: sklearn in /usr/local/lib/python3.7/dist-packages (0.0)\n",
            "Requirement already satisfied: scikit-learn in /usr/local/lib/python3.7/dist-packages (from sklearn) (0.22.2.post1)\n",
            "Requirement already satisfied: scipy>=0.17.0 in /usr/local/lib/python3.7/dist-packages (from scikit-learn->sklearn) (1.4.1)\n",
            "Requirement already satisfied: joblib>=0.11 in /usr/local/lib/python3.7/dist-packages (from scikit-learn->sklearn) (1.0.1)\n",
            "Requirement already satisfied: numpy>=1.11.0 in /usr/local/lib/python3.7/dist-packages (from scikit-learn->sklearn) (1.19.5)\n"
          ],
          "name": "stdout"
        }
      ]
    },
    {
      "cell_type": "code",
      "metadata": {
        "id": "kuXo5h_Af5l9",
        "colab": {
          "base_uri": "https://localhost:8080/",
          "height": 676
        },
        "outputId": "c83a5eaf-d9fd-4d48-ce3e-1b3b581011c1"
      },
      "source": [
        "import pandas as pd\n",
        "import csv\n",
        "data=pd.read_csv('/content/wordsim_similarity_goldstandard.txt',sep='\\t')\n",
        "data=pd.DataFrame(data)\n",
        "data.columns=['Word1','Word2','RSS']\n",
        "data.head(20)"
      ],
      "execution_count": 11,
      "outputs": [
        {
          "output_type": "execute_result",
          "data": {
            "text/html": [
              "<div>\n",
              "<style scoped>\n",
              "    .dataframe tbody tr th:only-of-type {\n",
              "        vertical-align: middle;\n",
              "    }\n",
              "\n",
              "    .dataframe tbody tr th {\n",
              "        vertical-align: top;\n",
              "    }\n",
              "\n",
              "    .dataframe thead th {\n",
              "        text-align: right;\n",
              "    }\n",
              "</style>\n",
              "<table border=\"1\" class=\"dataframe\">\n",
              "  <thead>\n",
              "    <tr style=\"text-align: right;\">\n",
              "      <th></th>\n",
              "      <th>Word1</th>\n",
              "      <th>Word2</th>\n",
              "      <th>RSS</th>\n",
              "    </tr>\n",
              "  </thead>\n",
              "  <tbody>\n",
              "    <tr>\n",
              "      <th>0</th>\n",
              "      <td>tiger</td>\n",
              "      <td>tiger</td>\n",
              "      <td>10.00</td>\n",
              "    </tr>\n",
              "    <tr>\n",
              "      <th>1</th>\n",
              "      <td>plane</td>\n",
              "      <td>car</td>\n",
              "      <td>5.77</td>\n",
              "    </tr>\n",
              "    <tr>\n",
              "      <th>2</th>\n",
              "      <td>train</td>\n",
              "      <td>car</td>\n",
              "      <td>6.31</td>\n",
              "    </tr>\n",
              "    <tr>\n",
              "      <th>3</th>\n",
              "      <td>television</td>\n",
              "      <td>radio</td>\n",
              "      <td>6.77</td>\n",
              "    </tr>\n",
              "    <tr>\n",
              "      <th>4</th>\n",
              "      <td>media</td>\n",
              "      <td>radio</td>\n",
              "      <td>7.42</td>\n",
              "    </tr>\n",
              "    <tr>\n",
              "      <th>5</th>\n",
              "      <td>bread</td>\n",
              "      <td>butter</td>\n",
              "      <td>6.19</td>\n",
              "    </tr>\n",
              "    <tr>\n",
              "      <th>6</th>\n",
              "      <td>cucumber</td>\n",
              "      <td>potato</td>\n",
              "      <td>5.92</td>\n",
              "    </tr>\n",
              "    <tr>\n",
              "      <th>7</th>\n",
              "      <td>doctor</td>\n",
              "      <td>nurse</td>\n",
              "      <td>7.00</td>\n",
              "    </tr>\n",
              "    <tr>\n",
              "      <th>8</th>\n",
              "      <td>professor</td>\n",
              "      <td>doctor</td>\n",
              "      <td>6.62</td>\n",
              "    </tr>\n",
              "    <tr>\n",
              "      <th>9</th>\n",
              "      <td>student</td>\n",
              "      <td>professor</td>\n",
              "      <td>6.81</td>\n",
              "    </tr>\n",
              "    <tr>\n",
              "      <th>10</th>\n",
              "      <td>smart</td>\n",
              "      <td>stupid</td>\n",
              "      <td>5.81</td>\n",
              "    </tr>\n",
              "    <tr>\n",
              "      <th>11</th>\n",
              "      <td>wood</td>\n",
              "      <td>forest</td>\n",
              "      <td>7.73</td>\n",
              "    </tr>\n",
              "    <tr>\n",
              "      <th>12</th>\n",
              "      <td>money</td>\n",
              "      <td>cash</td>\n",
              "      <td>9.15</td>\n",
              "    </tr>\n",
              "    <tr>\n",
              "      <th>13</th>\n",
              "      <td>king</td>\n",
              "      <td>queen</td>\n",
              "      <td>8.58</td>\n",
              "    </tr>\n",
              "    <tr>\n",
              "      <th>14</th>\n",
              "      <td>king</td>\n",
              "      <td>rook</td>\n",
              "      <td>5.92</td>\n",
              "    </tr>\n",
              "    <tr>\n",
              "      <th>15</th>\n",
              "      <td>bishop</td>\n",
              "      <td>rabbi</td>\n",
              "      <td>6.69</td>\n",
              "    </tr>\n",
              "    <tr>\n",
              "      <th>16</th>\n",
              "      <td>fuck</td>\n",
              "      <td>sex</td>\n",
              "      <td>9.44</td>\n",
              "    </tr>\n",
              "    <tr>\n",
              "      <th>17</th>\n",
              "      <td>football</td>\n",
              "      <td>soccer</td>\n",
              "      <td>9.03</td>\n",
              "    </tr>\n",
              "    <tr>\n",
              "      <th>18</th>\n",
              "      <td>football</td>\n",
              "      <td>basketball</td>\n",
              "      <td>6.81</td>\n",
              "    </tr>\n",
              "    <tr>\n",
              "      <th>19</th>\n",
              "      <td>football</td>\n",
              "      <td>tennis</td>\n",
              "      <td>6.63</td>\n",
              "    </tr>\n",
              "  </tbody>\n",
              "</table>\n",
              "</div>"
            ],
            "text/plain": [
              "         Word1       Word2    RSS\n",
              "0        tiger       tiger  10.00\n",
              "1        plane         car   5.77\n",
              "2        train         car   6.31\n",
              "3   television       radio   6.77\n",
              "4        media       radio   7.42\n",
              "5        bread      butter   6.19\n",
              "6     cucumber      potato   5.92\n",
              "7       doctor       nurse   7.00\n",
              "8    professor      doctor   6.62\n",
              "9      student   professor   6.81\n",
              "10       smart      stupid   5.81\n",
              "11        wood      forest   7.73\n",
              "12       money        cash   9.15\n",
              "13        king       queen   8.58\n",
              "14        king        rook   5.92\n",
              "15      bishop       rabbi   6.69\n",
              "16        fuck         sex   9.44\n",
              "17    football      soccer   9.03\n",
              "18    football  basketball   6.81\n",
              "19    football      tennis   6.63"
            ]
          },
          "metadata": {},
          "execution_count": 11
        }
      ]
    },
    {
      "cell_type": "code",
      "metadata": {
        "colab": {
          "base_uri": "https://localhost:8080/",
          "height": 206
        },
        "id": "MbJpwdnGkRsk",
        "outputId": "a14e12c2-a762-412b-92e0-8a0f33d757cb"
      },
      "source": [
        "from sklearn.metrics.pairwise import cosine_similarity\n",
        "\n",
        "def get_word_similarity(word_1,word_2,model):\n",
        "  \n",
        "    word_1_vector = model.get_vector(word_1)\n",
        "    word_2_vector = model.get_vector(word_2)\n",
        "    similarity = cosine_similarity(word_1_vector.reshape(1,-1),word_2_vector.reshape(1,-1))[0][0]\n",
        "    return similarity\n",
        "for index,row in data.iterrows(): \n",
        "  data['CSS']=(get_word_similarity(row['Word1'],row['Word2'],model)) #CSS= COSINE SIMILARITY SCORE\n",
        "data.head()"
      ],
      "execution_count": 13,
      "outputs": [
        {
          "output_type": "execute_result",
          "data": {
            "text/html": [
              "<div>\n",
              "<style scoped>\n",
              "    .dataframe tbody tr th:only-of-type {\n",
              "        vertical-align: middle;\n",
              "    }\n",
              "\n",
              "    .dataframe tbody tr th {\n",
              "        vertical-align: top;\n",
              "    }\n",
              "\n",
              "    .dataframe thead th {\n",
              "        text-align: right;\n",
              "    }\n",
              "</style>\n",
              "<table border=\"1\" class=\"dataframe\">\n",
              "  <thead>\n",
              "    <tr style=\"text-align: right;\">\n",
              "      <th></th>\n",
              "      <th>Word1</th>\n",
              "      <th>Word2</th>\n",
              "      <th>RSS</th>\n",
              "      <th>CSS</th>\n",
              "    </tr>\n",
              "  </thead>\n",
              "  <tbody>\n",
              "    <tr>\n",
              "      <th>0</th>\n",
              "      <td>tiger</td>\n",
              "      <td>tiger</td>\n",
              "      <td>10.00</td>\n",
              "      <td>0.118132</td>\n",
              "    </tr>\n",
              "    <tr>\n",
              "      <th>1</th>\n",
              "      <td>plane</td>\n",
              "      <td>car</td>\n",
              "      <td>5.77</td>\n",
              "      <td>0.118132</td>\n",
              "    </tr>\n",
              "    <tr>\n",
              "      <th>2</th>\n",
              "      <td>train</td>\n",
              "      <td>car</td>\n",
              "      <td>6.31</td>\n",
              "      <td>0.118132</td>\n",
              "    </tr>\n",
              "    <tr>\n",
              "      <th>3</th>\n",
              "      <td>television</td>\n",
              "      <td>radio</td>\n",
              "      <td>6.77</td>\n",
              "      <td>0.118132</td>\n",
              "    </tr>\n",
              "    <tr>\n",
              "      <th>4</th>\n",
              "      <td>media</td>\n",
              "      <td>radio</td>\n",
              "      <td>7.42</td>\n",
              "      <td>0.118132</td>\n",
              "    </tr>\n",
              "  </tbody>\n",
              "</table>\n",
              "</div>"
            ],
            "text/plain": [
              "        Word1  Word2    RSS       CSS\n",
              "0       tiger  tiger  10.00  0.118132\n",
              "1       plane    car   5.77  0.118132\n",
              "2       train    car   6.31  0.118132\n",
              "3  television  radio   6.77  0.118132\n",
              "4       media  radio   7.42  0.118132"
            ]
          },
          "metadata": {},
          "execution_count": 13
        }
      ]
    },
    {
      "cell_type": "markdown",
      "metadata": {
        "id": "I-XFf-tp02GV"
      },
      "source": [
        "## Spearman Correlation"
      ]
    },
    {
      "cell_type": "code",
      "metadata": {
        "colab": {
          "base_uri": "https://localhost:8080/"
        },
        "id": "Ixs9flHS06u0",
        "outputId": "120216c1-d8b3-46a9-e37a-a57c69604dc8"
      },
      "source": [
        "from scipy import stats\n",
        "\n",
        "L=data['CSS']\n",
        "R=data['RSS']\n",
        "\n",
        "for index,row in data.iterrows(): \n",
        "  p = stats.spearmanr(L,R)\n",
        "  print(p)"
      ],
      "execution_count": 20,
      "outputs": [
        {
          "output_type": "stream",
          "text": [
            "/usr/local/lib/python3.7/dist-packages/numpy/lib/function_base.py:2559: RuntimeWarning: invalid value encountered in true_divide\n",
            "  c /= stddev[:, None]\n",
            "/usr/local/lib/python3.7/dist-packages/numpy/lib/function_base.py:2560: RuntimeWarning: invalid value encountered in true_divide\n",
            "  c /= stddev[None, :]\n"
          ],
          "name": "stderr"
        },
        {
          "output_type": "stream",
          "text": [
            "SpearmanrResult(correlation=nan, pvalue=nan)\n",
            "SpearmanrResult(correlation=nan, pvalue=nan)\n",
            "SpearmanrResult(correlation=nan, pvalue=nan)\n",
            "SpearmanrResult(correlation=nan, pvalue=nan)\n",
            "SpearmanrResult(correlation=nan, pvalue=nan)\n",
            "SpearmanrResult(correlation=nan, pvalue=nan)\n",
            "SpearmanrResult(correlation=nan, pvalue=nan)\n",
            "SpearmanrResult(correlation=nan, pvalue=nan)\n",
            "SpearmanrResult(correlation=nan, pvalue=nan)\n",
            "SpearmanrResult(correlation=nan, pvalue=nan)\n",
            "SpearmanrResult(correlation=nan, pvalue=nan)\n",
            "SpearmanrResult(correlation=nan, pvalue=nan)\n",
            "SpearmanrResult(correlation=nan, pvalue=nan)\n",
            "SpearmanrResult(correlation=nan, pvalue=nan)\n",
            "SpearmanrResult(correlation=nan, pvalue=nan)\n",
            "SpearmanrResult(correlation=nan, pvalue=nan)\n",
            "SpearmanrResult(correlation=nan, pvalue=nan)\n",
            "SpearmanrResult(correlation=nan, pvalue=nan)\n",
            "SpearmanrResult(correlation=nan, pvalue=nan)\n",
            "SpearmanrResult(correlation=nan, pvalue=nan)\n",
            "SpearmanrResult(correlation=nan, pvalue=nan)\n",
            "SpearmanrResult(correlation=nan, pvalue=nan)\n",
            "SpearmanrResult(correlation=nan, pvalue=nan)\n",
            "SpearmanrResult(correlation=nan, pvalue=nan)\n",
            "SpearmanrResult(correlation=nan, pvalue=nan)\n",
            "SpearmanrResult(correlation=nan, pvalue=nan)\n",
            "SpearmanrResult(correlation=nan, pvalue=nan)\n",
            "SpearmanrResult(correlation=nan, pvalue=nan)\n",
            "SpearmanrResult(correlation=nan, pvalue=nan)\n",
            "SpearmanrResult(correlation=nan, pvalue=nan)\n",
            "SpearmanrResult(correlation=nan, pvalue=nan)\n",
            "SpearmanrResult(correlation=nan, pvalue=nan)\n",
            "SpearmanrResult(correlation=nan, pvalue=nan)\n",
            "SpearmanrResult(correlation=nan, pvalue=nan)\n",
            "SpearmanrResult(correlation=nan, pvalue=nan)\n",
            "SpearmanrResult(correlation=nan, pvalue=nan)\n",
            "SpearmanrResult(correlation=nan, pvalue=nan)\n",
            "SpearmanrResult(correlation=nan, pvalue=nan)\n",
            "SpearmanrResult(correlation=nan, pvalue=nan)\n",
            "SpearmanrResult(correlation=nan, pvalue=nan)\n",
            "SpearmanrResult(correlation=nan, pvalue=nan)\n",
            "SpearmanrResult(correlation=nan, pvalue=nan)\n",
            "SpearmanrResult(correlation=nan, pvalue=nan)\n",
            "SpearmanrResult(correlation=nan, pvalue=nan)\n",
            "SpearmanrResult(correlation=nan, pvalue=nan)\n",
            "SpearmanrResult(correlation=nan, pvalue=nan)\n",
            "SpearmanrResult(correlation=nan, pvalue=nan)\n",
            "SpearmanrResult(correlation=nan, pvalue=nan)\n",
            "SpearmanrResult(correlation=nan, pvalue=nan)\n",
            "SpearmanrResult(correlation=nan, pvalue=nan)\n",
            "SpearmanrResult(correlation=nan, pvalue=nan)\n",
            "SpearmanrResult(correlation=nan, pvalue=nan)\n",
            "SpearmanrResult(correlation=nan, pvalue=nan)\n",
            "SpearmanrResult(correlation=nan, pvalue=nan)\n",
            "SpearmanrResult(correlation=nan, pvalue=nan)\n",
            "SpearmanrResult(correlation=nan, pvalue=nan)\n",
            "SpearmanrResult(correlation=nan, pvalue=nan)\n",
            "SpearmanrResult(correlation=nan, pvalue=nan)\n",
            "SpearmanrResult(correlation=nan, pvalue=nan)\n",
            "SpearmanrResult(correlation=nan, pvalue=nan)\n",
            "SpearmanrResult(correlation=nan, pvalue=nan)\n",
            "SpearmanrResult(correlation=nan, pvalue=nan)\n",
            "SpearmanrResult(correlation=nan, pvalue=nan)\n",
            "SpearmanrResult(correlation=nan, pvalue=nan)\n",
            "SpearmanrResult(correlation=nan, pvalue=nan)\n",
            "SpearmanrResult(correlation=nan, pvalue=nan)\n",
            "SpearmanrResult(correlation=nan, pvalue=nan)\n",
            "SpearmanrResult(correlation=nan, pvalue=nan)\n",
            "SpearmanrResult(correlation=nan, pvalue=nan)\n",
            "SpearmanrResult(correlation=nan, pvalue=nan)\n",
            "SpearmanrResult(correlation=nan, pvalue=nan)\n",
            "SpearmanrResult(correlation=nan, pvalue=nan)\n",
            "SpearmanrResult(correlation=nan, pvalue=nan)\n",
            "SpearmanrResult(correlation=nan, pvalue=nan)\n",
            "SpearmanrResult(correlation=nan, pvalue=nan)\n",
            "SpearmanrResult(correlation=nan, pvalue=nan)\n",
            "SpearmanrResult(correlation=nan, pvalue=nan)\n",
            "SpearmanrResult(correlation=nan, pvalue=nan)\n",
            "SpearmanrResult(correlation=nan, pvalue=nan)\n",
            "SpearmanrResult(correlation=nan, pvalue=nan)\n",
            "SpearmanrResult(correlation=nan, pvalue=nan)\n",
            "SpearmanrResult(correlation=nan, pvalue=nan)\n",
            "SpearmanrResult(correlation=nan, pvalue=nan)\n",
            "SpearmanrResult(correlation=nan, pvalue=nan)\n",
            "SpearmanrResult(correlation=nan, pvalue=nan)\n",
            "SpearmanrResult(correlation=nan, pvalue=nan)\n",
            "SpearmanrResult(correlation=nan, pvalue=nan)\n",
            "SpearmanrResult(correlation=nan, pvalue=nan)\n",
            "SpearmanrResult(correlation=nan, pvalue=nan)\n",
            "SpearmanrResult(correlation=nan, pvalue=nan)\n",
            "SpearmanrResult(correlation=nan, pvalue=nan)\n",
            "SpearmanrResult(correlation=nan, pvalue=nan)\n",
            "SpearmanrResult(correlation=nan, pvalue=nan)\n",
            "SpearmanrResult(correlation=nan, pvalue=nan)\n",
            "SpearmanrResult(correlation=nan, pvalue=nan)\n",
            "SpearmanrResult(correlation=nan, pvalue=nan)\n",
            "SpearmanrResult(correlation=nan, pvalue=nan)\n",
            "SpearmanrResult(correlation=nan, pvalue=nan)\n",
            "SpearmanrResult(correlation=nan, pvalue=nan)\n",
            "SpearmanrResult(correlation=nan, pvalue=nan)\n",
            "SpearmanrResult(correlation=nan, pvalue=nan)\n",
            "SpearmanrResult(correlation=nan, pvalue=nan)\n",
            "SpearmanrResult(correlation=nan, pvalue=nan)\n",
            "SpearmanrResult(correlation=nan, pvalue=nan)\n",
            "SpearmanrResult(correlation=nan, pvalue=nan)\n",
            "SpearmanrResult(correlation=nan, pvalue=nan)\n",
            "SpearmanrResult(correlation=nan, pvalue=nan)\n",
            "SpearmanrResult(correlation=nan, pvalue=nan)\n",
            "SpearmanrResult(correlation=nan, pvalue=nan)\n",
            "SpearmanrResult(correlation=nan, pvalue=nan)\n",
            "SpearmanrResult(correlation=nan, pvalue=nan)\n",
            "SpearmanrResult(correlation=nan, pvalue=nan)\n",
            "SpearmanrResult(correlation=nan, pvalue=nan)\n",
            "SpearmanrResult(correlation=nan, pvalue=nan)\n",
            "SpearmanrResult(correlation=nan, pvalue=nan)\n",
            "SpearmanrResult(correlation=nan, pvalue=nan)\n",
            "SpearmanrResult(correlation=nan, pvalue=nan)\n",
            "SpearmanrResult(correlation=nan, pvalue=nan)\n",
            "SpearmanrResult(correlation=nan, pvalue=nan)\n",
            "SpearmanrResult(correlation=nan, pvalue=nan)\n",
            "SpearmanrResult(correlation=nan, pvalue=nan)\n",
            "SpearmanrResult(correlation=nan, pvalue=nan)\n",
            "SpearmanrResult(correlation=nan, pvalue=nan)\n",
            "SpearmanrResult(correlation=nan, pvalue=nan)\n",
            "SpearmanrResult(correlation=nan, pvalue=nan)\n",
            "SpearmanrResult(correlation=nan, pvalue=nan)\n",
            "SpearmanrResult(correlation=nan, pvalue=nan)\n",
            "SpearmanrResult(correlation=nan, pvalue=nan)\n",
            "SpearmanrResult(correlation=nan, pvalue=nan)\n",
            "SpearmanrResult(correlation=nan, pvalue=nan)\n",
            "SpearmanrResult(correlation=nan, pvalue=nan)\n",
            "SpearmanrResult(correlation=nan, pvalue=nan)\n",
            "SpearmanrResult(correlation=nan, pvalue=nan)\n",
            "SpearmanrResult(correlation=nan, pvalue=nan)\n",
            "SpearmanrResult(correlation=nan, pvalue=nan)\n",
            "SpearmanrResult(correlation=nan, pvalue=nan)\n",
            "SpearmanrResult(correlation=nan, pvalue=nan)\n",
            "SpearmanrResult(correlation=nan, pvalue=nan)\n",
            "SpearmanrResult(correlation=nan, pvalue=nan)\n",
            "SpearmanrResult(correlation=nan, pvalue=nan)\n",
            "SpearmanrResult(correlation=nan, pvalue=nan)\n",
            "SpearmanrResult(correlation=nan, pvalue=nan)\n",
            "SpearmanrResult(correlation=nan, pvalue=nan)\n",
            "SpearmanrResult(correlation=nan, pvalue=nan)\n",
            "SpearmanrResult(correlation=nan, pvalue=nan)\n",
            "SpearmanrResult(correlation=nan, pvalue=nan)\n",
            "SpearmanrResult(correlation=nan, pvalue=nan)\n",
            "SpearmanrResult(correlation=nan, pvalue=nan)\n",
            "SpearmanrResult(correlation=nan, pvalue=nan)\n",
            "SpearmanrResult(correlation=nan, pvalue=nan)\n",
            "SpearmanrResult(correlation=nan, pvalue=nan)\n",
            "SpearmanrResult(correlation=nan, pvalue=nan)\n",
            "SpearmanrResult(correlation=nan, pvalue=nan)\n",
            "SpearmanrResult(correlation=nan, pvalue=nan)\n",
            "SpearmanrResult(correlation=nan, pvalue=nan)\n",
            "SpearmanrResult(correlation=nan, pvalue=nan)\n",
            "SpearmanrResult(correlation=nan, pvalue=nan)\n",
            "SpearmanrResult(correlation=nan, pvalue=nan)\n",
            "SpearmanrResult(correlation=nan, pvalue=nan)\n",
            "SpearmanrResult(correlation=nan, pvalue=nan)\n",
            "SpearmanrResult(correlation=nan, pvalue=nan)\n",
            "SpearmanrResult(correlation=nan, pvalue=nan)\n",
            "SpearmanrResult(correlation=nan, pvalue=nan)\n",
            "SpearmanrResult(correlation=nan, pvalue=nan)\n",
            "SpearmanrResult(correlation=nan, pvalue=nan)\n",
            "SpearmanrResult(correlation=nan, pvalue=nan)\n",
            "SpearmanrResult(correlation=nan, pvalue=nan)\n",
            "SpearmanrResult(correlation=nan, pvalue=nan)\n",
            "SpearmanrResult(correlation=nan, pvalue=nan)\n",
            "SpearmanrResult(correlation=nan, pvalue=nan)\n",
            "SpearmanrResult(correlation=nan, pvalue=nan)\n",
            "SpearmanrResult(correlation=nan, pvalue=nan)\n",
            "SpearmanrResult(correlation=nan, pvalue=nan)\n",
            "SpearmanrResult(correlation=nan, pvalue=nan)\n",
            "SpearmanrResult(correlation=nan, pvalue=nan)\n",
            "SpearmanrResult(correlation=nan, pvalue=nan)\n",
            "SpearmanrResult(correlation=nan, pvalue=nan)\n",
            "SpearmanrResult(correlation=nan, pvalue=nan)\n",
            "SpearmanrResult(correlation=nan, pvalue=nan)\n",
            "SpearmanrResult(correlation=nan, pvalue=nan)\n",
            "SpearmanrResult(correlation=nan, pvalue=nan)\n",
            "SpearmanrResult(correlation=nan, pvalue=nan)\n",
            "SpearmanrResult(correlation=nan, pvalue=nan)\n",
            "SpearmanrResult(correlation=nan, pvalue=nan)\n",
            "SpearmanrResult(correlation=nan, pvalue=nan)\n",
            "SpearmanrResult(correlation=nan, pvalue=nan)\n",
            "SpearmanrResult(correlation=nan, pvalue=nan)\n",
            "SpearmanrResult(correlation=nan, pvalue=nan)\n",
            "SpearmanrResult(correlation=nan, pvalue=nan)\n",
            "SpearmanrResult(correlation=nan, pvalue=nan)\n",
            "SpearmanrResult(correlation=nan, pvalue=nan)\n",
            "SpearmanrResult(correlation=nan, pvalue=nan)\n",
            "SpearmanrResult(correlation=nan, pvalue=nan)\n",
            "SpearmanrResult(correlation=nan, pvalue=nan)\n",
            "SpearmanrResult(correlation=nan, pvalue=nan)\n",
            "SpearmanrResult(correlation=nan, pvalue=nan)\n",
            "SpearmanrResult(correlation=nan, pvalue=nan)\n",
            "SpearmanrResult(correlation=nan, pvalue=nan)\n",
            "SpearmanrResult(correlation=nan, pvalue=nan)\n",
            "SpearmanrResult(correlation=nan, pvalue=nan)\n",
            "SpearmanrResult(correlation=nan, pvalue=nan)\n",
            "SpearmanrResult(correlation=nan, pvalue=nan)\n"
          ],
          "name": "stdout"
        }
      ]
    },
    {
      "cell_type": "markdown",
      "metadata": {
        "id": "D4pZnazHodah"
      },
      "source": [
        "## fastText "
      ]
    },
    {
      "cell_type": "markdown",
      "metadata": {
        "id": "tPXxdXqColEP"
      },
      "source": [
        "## Train fastText"
      ]
    },
    {
      "cell_type": "code",
      "metadata": {
        "colab": {
          "base_uri": "https://localhost:8080/"
        },
        "id": "D9J5wpCFofbj",
        "outputId": "e52e1ed7-3211-4423-9e15-4032727dfc7d"
      },
      "source": [
        "!pip install fasttext"
      ],
      "execution_count": 18,
      "outputs": [
        {
          "output_type": "stream",
          "text": [
            "Collecting fasttext\n",
            "  Downloading fasttext-0.9.2.tar.gz (68 kB)\n",
            "\u001b[?25l\r\u001b[K     |████▊                           | 10 kB 22.5 MB/s eta 0:00:01\r\u001b[K     |█████████▌                      | 20 kB 24.1 MB/s eta 0:00:01\r\u001b[K     |██████████████▎                 | 30 kB 28.1 MB/s eta 0:00:01\r\u001b[K     |███████████████████             | 40 kB 22.8 MB/s eta 0:00:01\r\u001b[K     |███████████████████████▉        | 51 kB 9.5 MB/s eta 0:00:01\r\u001b[K     |████████████████████████████▋   | 61 kB 10.5 MB/s eta 0:00:01\r\u001b[K     |████████████████████████████████| 68 kB 3.9 MB/s \n",
            "\u001b[?25hCollecting pybind11>=2.2\n",
            "  Using cached pybind11-2.7.1-py2.py3-none-any.whl (200 kB)\n",
            "Requirement already satisfied: setuptools>=0.7.0 in /usr/local/lib/python3.7/dist-packages (from fasttext) (57.4.0)\n",
            "Requirement already satisfied: numpy in /usr/local/lib/python3.7/dist-packages (from fasttext) (1.19.5)\n",
            "Building wheels for collected packages: fasttext\n",
            "  Building wheel for fasttext (setup.py) ... \u001b[?25l\u001b[?25hdone\n",
            "  Created wheel for fasttext: filename=fasttext-0.9.2-cp37-cp37m-linux_x86_64.whl size=3095925 sha256=78d4e1d064a7b3880b0e0324e89f6ef0d07346a4b1d37b8919eba9d721e65c1f\n",
            "  Stored in directory: /root/.cache/pip/wheels/4e/ca/bf/b020d2be95f7641801a6597a29c8f4f19e38f9c02a345bab9b\n",
            "Successfully built fasttext\n",
            "Installing collected packages: pybind11, fasttext\n",
            "Successfully installed fasttext-0.9.2 pybind11-2.7.1\n"
          ],
          "name": "stdout"
        }
      ]
    },
    {
      "cell_type": "code",
      "metadata": {
        "id": "vEucrKNdo7bf"
      },
      "source": [
        "import fasttext\n",
        "fassttext_model = fasttext.train_unsupervised(input = '/content/text8',\n",
        "                                              ws = 5,\n",
        "                                              model = 'cbow',\n",
        "                                              dim = 100,\n",
        "                                              epoch = 6)"
      ],
      "execution_count": 19,
      "outputs": []
    },
    {
      "cell_type": "markdown",
      "metadata": {
        "id": "WlisbiUFxzTM"
      },
      "source": [
        "## Word Similarity"
      ]
    },
    {
      "cell_type": "code",
      "metadata": {
        "id": "MmwGb7SoxpBr",
        "colab": {
          "base_uri": "https://localhost:8080/",
          "height": 676
        },
        "outputId": "1f593fc2-6017-493e-dc6f-684a2048694c"
      },
      "source": [
        "for index,row in data.iterrows(): \n",
        "  data['CSS2']=get_word_similarity(row['Word1'],row['Word2'],model)\n",
        "data.head(20)"
      ],
      "execution_count": 22,
      "outputs": [
        {
          "output_type": "execute_result",
          "data": {
            "text/html": [
              "<div>\n",
              "<style scoped>\n",
              "    .dataframe tbody tr th:only-of-type {\n",
              "        vertical-align: middle;\n",
              "    }\n",
              "\n",
              "    .dataframe tbody tr th {\n",
              "        vertical-align: top;\n",
              "    }\n",
              "\n",
              "    .dataframe thead th {\n",
              "        text-align: right;\n",
              "    }\n",
              "</style>\n",
              "<table border=\"1\" class=\"dataframe\">\n",
              "  <thead>\n",
              "    <tr style=\"text-align: right;\">\n",
              "      <th></th>\n",
              "      <th>Word1</th>\n",
              "      <th>Word2</th>\n",
              "      <th>RSS</th>\n",
              "      <th>CSS</th>\n",
              "      <th>CSS2</th>\n",
              "    </tr>\n",
              "  </thead>\n",
              "  <tbody>\n",
              "    <tr>\n",
              "      <th>0</th>\n",
              "      <td>tiger</td>\n",
              "      <td>tiger</td>\n",
              "      <td>10.00</td>\n",
              "      <td>0.118132</td>\n",
              "      <td>0.118132</td>\n",
              "    </tr>\n",
              "    <tr>\n",
              "      <th>1</th>\n",
              "      <td>plane</td>\n",
              "      <td>car</td>\n",
              "      <td>5.77</td>\n",
              "      <td>0.118132</td>\n",
              "      <td>0.118132</td>\n",
              "    </tr>\n",
              "    <tr>\n",
              "      <th>2</th>\n",
              "      <td>train</td>\n",
              "      <td>car</td>\n",
              "      <td>6.31</td>\n",
              "      <td>0.118132</td>\n",
              "      <td>0.118132</td>\n",
              "    </tr>\n",
              "    <tr>\n",
              "      <th>3</th>\n",
              "      <td>television</td>\n",
              "      <td>radio</td>\n",
              "      <td>6.77</td>\n",
              "      <td>0.118132</td>\n",
              "      <td>0.118132</td>\n",
              "    </tr>\n",
              "    <tr>\n",
              "      <th>4</th>\n",
              "      <td>media</td>\n",
              "      <td>radio</td>\n",
              "      <td>7.42</td>\n",
              "      <td>0.118132</td>\n",
              "      <td>0.118132</td>\n",
              "    </tr>\n",
              "    <tr>\n",
              "      <th>5</th>\n",
              "      <td>bread</td>\n",
              "      <td>butter</td>\n",
              "      <td>6.19</td>\n",
              "      <td>0.118132</td>\n",
              "      <td>0.118132</td>\n",
              "    </tr>\n",
              "    <tr>\n",
              "      <th>6</th>\n",
              "      <td>cucumber</td>\n",
              "      <td>potato</td>\n",
              "      <td>5.92</td>\n",
              "      <td>0.118132</td>\n",
              "      <td>0.118132</td>\n",
              "    </tr>\n",
              "    <tr>\n",
              "      <th>7</th>\n",
              "      <td>doctor</td>\n",
              "      <td>nurse</td>\n",
              "      <td>7.00</td>\n",
              "      <td>0.118132</td>\n",
              "      <td>0.118132</td>\n",
              "    </tr>\n",
              "    <tr>\n",
              "      <th>8</th>\n",
              "      <td>professor</td>\n",
              "      <td>doctor</td>\n",
              "      <td>6.62</td>\n",
              "      <td>0.118132</td>\n",
              "      <td>0.118132</td>\n",
              "    </tr>\n",
              "    <tr>\n",
              "      <th>9</th>\n",
              "      <td>student</td>\n",
              "      <td>professor</td>\n",
              "      <td>6.81</td>\n",
              "      <td>0.118132</td>\n",
              "      <td>0.118132</td>\n",
              "    </tr>\n",
              "    <tr>\n",
              "      <th>10</th>\n",
              "      <td>smart</td>\n",
              "      <td>stupid</td>\n",
              "      <td>5.81</td>\n",
              "      <td>0.118132</td>\n",
              "      <td>0.118132</td>\n",
              "    </tr>\n",
              "    <tr>\n",
              "      <th>11</th>\n",
              "      <td>wood</td>\n",
              "      <td>forest</td>\n",
              "      <td>7.73</td>\n",
              "      <td>0.118132</td>\n",
              "      <td>0.118132</td>\n",
              "    </tr>\n",
              "    <tr>\n",
              "      <th>12</th>\n",
              "      <td>money</td>\n",
              "      <td>cash</td>\n",
              "      <td>9.15</td>\n",
              "      <td>0.118132</td>\n",
              "      <td>0.118132</td>\n",
              "    </tr>\n",
              "    <tr>\n",
              "      <th>13</th>\n",
              "      <td>king</td>\n",
              "      <td>queen</td>\n",
              "      <td>8.58</td>\n",
              "      <td>0.118132</td>\n",
              "      <td>0.118132</td>\n",
              "    </tr>\n",
              "    <tr>\n",
              "      <th>14</th>\n",
              "      <td>king</td>\n",
              "      <td>rook</td>\n",
              "      <td>5.92</td>\n",
              "      <td>0.118132</td>\n",
              "      <td>0.118132</td>\n",
              "    </tr>\n",
              "    <tr>\n",
              "      <th>15</th>\n",
              "      <td>bishop</td>\n",
              "      <td>rabbi</td>\n",
              "      <td>6.69</td>\n",
              "      <td>0.118132</td>\n",
              "      <td>0.118132</td>\n",
              "    </tr>\n",
              "    <tr>\n",
              "      <th>16</th>\n",
              "      <td>fuck</td>\n",
              "      <td>sex</td>\n",
              "      <td>9.44</td>\n",
              "      <td>0.118132</td>\n",
              "      <td>0.118132</td>\n",
              "    </tr>\n",
              "    <tr>\n",
              "      <th>17</th>\n",
              "      <td>football</td>\n",
              "      <td>soccer</td>\n",
              "      <td>9.03</td>\n",
              "      <td>0.118132</td>\n",
              "      <td>0.118132</td>\n",
              "    </tr>\n",
              "    <tr>\n",
              "      <th>18</th>\n",
              "      <td>football</td>\n",
              "      <td>basketball</td>\n",
              "      <td>6.81</td>\n",
              "      <td>0.118132</td>\n",
              "      <td>0.118132</td>\n",
              "    </tr>\n",
              "    <tr>\n",
              "      <th>19</th>\n",
              "      <td>football</td>\n",
              "      <td>tennis</td>\n",
              "      <td>6.63</td>\n",
              "      <td>0.118132</td>\n",
              "      <td>0.118132</td>\n",
              "    </tr>\n",
              "  </tbody>\n",
              "</table>\n",
              "</div>"
            ],
            "text/plain": [
              "         Word1       Word2    RSS       CSS      CSS2\n",
              "0        tiger       tiger  10.00  0.118132  0.118132\n",
              "1        plane         car   5.77  0.118132  0.118132\n",
              "2        train         car   6.31  0.118132  0.118132\n",
              "3   television       radio   6.77  0.118132  0.118132\n",
              "4        media       radio   7.42  0.118132  0.118132\n",
              "5        bread      butter   6.19  0.118132  0.118132\n",
              "6     cucumber      potato   5.92  0.118132  0.118132\n",
              "7       doctor       nurse   7.00  0.118132  0.118132\n",
              "8    professor      doctor   6.62  0.118132  0.118132\n",
              "9      student   professor   6.81  0.118132  0.118132\n",
              "10       smart      stupid   5.81  0.118132  0.118132\n",
              "11        wood      forest   7.73  0.118132  0.118132\n",
              "12       money        cash   9.15  0.118132  0.118132\n",
              "13        king       queen   8.58  0.118132  0.118132\n",
              "14        king        rook   5.92  0.118132  0.118132\n",
              "15      bishop       rabbi   6.69  0.118132  0.118132\n",
              "16        fuck         sex   9.44  0.118132  0.118132\n",
              "17    football      soccer   9.03  0.118132  0.118132\n",
              "18    football  basketball   6.81  0.118132  0.118132\n",
              "19    football      tennis   6.63  0.118132  0.118132"
            ]
          },
          "metadata": {},
          "execution_count": 22
        }
      ]
    },
    {
      "cell_type": "markdown",
      "metadata": {
        "id": "1XgX015d3uzc"
      },
      "source": [
        "## Spearman Correlation"
      ]
    },
    {
      "cell_type": "code",
      "metadata": {
        "colab": {
          "base_uri": "https://localhost:8080/"
        },
        "id": "PTHUZIOh3_p1",
        "outputId": "e0689892-2bfb-4dc6-9ee4-34ebeec457ac"
      },
      "source": [
        "CSS=data['CSS2']\n",
        "RSS=data['RSS']\n",
        "\n",
        "for index,row in data.iterrows(): \n",
        "  p = stats.spearmanr(CSS,RSS)\n",
        "  print(p)"
      ],
      "execution_count": 25,
      "outputs": [
        {
          "output_type": "stream",
          "text": [
            "/usr/local/lib/python3.7/dist-packages/numpy/lib/function_base.py:2559: RuntimeWarning: invalid value encountered in true_divide\n",
            "  c /= stddev[:, None]\n",
            "/usr/local/lib/python3.7/dist-packages/numpy/lib/function_base.py:2560: RuntimeWarning: invalid value encountered in true_divide\n",
            "  c /= stddev[None, :]\n"
          ],
          "name": "stderr"
        },
        {
          "output_type": "stream",
          "text": [
            "SpearmanrResult(correlation=nan, pvalue=nan)\n",
            "SpearmanrResult(correlation=nan, pvalue=nan)\n",
            "SpearmanrResult(correlation=nan, pvalue=nan)\n",
            "SpearmanrResult(correlation=nan, pvalue=nan)\n",
            "SpearmanrResult(correlation=nan, pvalue=nan)\n",
            "SpearmanrResult(correlation=nan, pvalue=nan)\n",
            "SpearmanrResult(correlation=nan, pvalue=nan)\n",
            "SpearmanrResult(correlation=nan, pvalue=nan)\n",
            "SpearmanrResult(correlation=nan, pvalue=nan)\n",
            "SpearmanrResult(correlation=nan, pvalue=nan)\n",
            "SpearmanrResult(correlation=nan, pvalue=nan)\n",
            "SpearmanrResult(correlation=nan, pvalue=nan)\n",
            "SpearmanrResult(correlation=nan, pvalue=nan)\n",
            "SpearmanrResult(correlation=nan, pvalue=nan)\n",
            "SpearmanrResult(correlation=nan, pvalue=nan)\n",
            "SpearmanrResult(correlation=nan, pvalue=nan)\n",
            "SpearmanrResult(correlation=nan, pvalue=nan)\n",
            "SpearmanrResult(correlation=nan, pvalue=nan)\n",
            "SpearmanrResult(correlation=nan, pvalue=nan)\n",
            "SpearmanrResult(correlation=nan, pvalue=nan)\n",
            "SpearmanrResult(correlation=nan, pvalue=nan)\n",
            "SpearmanrResult(correlation=nan, pvalue=nan)\n",
            "SpearmanrResult(correlation=nan, pvalue=nan)\n",
            "SpearmanrResult(correlation=nan, pvalue=nan)\n",
            "SpearmanrResult(correlation=nan, pvalue=nan)\n",
            "SpearmanrResult(correlation=nan, pvalue=nan)\n",
            "SpearmanrResult(correlation=nan, pvalue=nan)\n",
            "SpearmanrResult(correlation=nan, pvalue=nan)\n",
            "SpearmanrResult(correlation=nan, pvalue=nan)\n",
            "SpearmanrResult(correlation=nan, pvalue=nan)\n",
            "SpearmanrResult(correlation=nan, pvalue=nan)\n",
            "SpearmanrResult(correlation=nan, pvalue=nan)\n",
            "SpearmanrResult(correlation=nan, pvalue=nan)\n",
            "SpearmanrResult(correlation=nan, pvalue=nan)\n",
            "SpearmanrResult(correlation=nan, pvalue=nan)\n",
            "SpearmanrResult(correlation=nan, pvalue=nan)\n",
            "SpearmanrResult(correlation=nan, pvalue=nan)\n",
            "SpearmanrResult(correlation=nan, pvalue=nan)\n",
            "SpearmanrResult(correlation=nan, pvalue=nan)\n",
            "SpearmanrResult(correlation=nan, pvalue=nan)\n",
            "SpearmanrResult(correlation=nan, pvalue=nan)\n",
            "SpearmanrResult(correlation=nan, pvalue=nan)\n",
            "SpearmanrResult(correlation=nan, pvalue=nan)\n",
            "SpearmanrResult(correlation=nan, pvalue=nan)\n",
            "SpearmanrResult(correlation=nan, pvalue=nan)\n",
            "SpearmanrResult(correlation=nan, pvalue=nan)\n",
            "SpearmanrResult(correlation=nan, pvalue=nan)\n",
            "SpearmanrResult(correlation=nan, pvalue=nan)\n",
            "SpearmanrResult(correlation=nan, pvalue=nan)\n",
            "SpearmanrResult(correlation=nan, pvalue=nan)\n",
            "SpearmanrResult(correlation=nan, pvalue=nan)\n",
            "SpearmanrResult(correlation=nan, pvalue=nan)\n",
            "SpearmanrResult(correlation=nan, pvalue=nan)\n",
            "SpearmanrResult(correlation=nan, pvalue=nan)\n",
            "SpearmanrResult(correlation=nan, pvalue=nan)\n",
            "SpearmanrResult(correlation=nan, pvalue=nan)\n",
            "SpearmanrResult(correlation=nan, pvalue=nan)\n",
            "SpearmanrResult(correlation=nan, pvalue=nan)\n",
            "SpearmanrResult(correlation=nan, pvalue=nan)\n",
            "SpearmanrResult(correlation=nan, pvalue=nan)\n",
            "SpearmanrResult(correlation=nan, pvalue=nan)\n",
            "SpearmanrResult(correlation=nan, pvalue=nan)\n",
            "SpearmanrResult(correlation=nan, pvalue=nan)\n",
            "SpearmanrResult(correlation=nan, pvalue=nan)\n",
            "SpearmanrResult(correlation=nan, pvalue=nan)\n",
            "SpearmanrResult(correlation=nan, pvalue=nan)\n",
            "SpearmanrResult(correlation=nan, pvalue=nan)\n",
            "SpearmanrResult(correlation=nan, pvalue=nan)\n",
            "SpearmanrResult(correlation=nan, pvalue=nan)\n",
            "SpearmanrResult(correlation=nan, pvalue=nan)\n",
            "SpearmanrResult(correlation=nan, pvalue=nan)\n",
            "SpearmanrResult(correlation=nan, pvalue=nan)\n",
            "SpearmanrResult(correlation=nan, pvalue=nan)\n",
            "SpearmanrResult(correlation=nan, pvalue=nan)\n",
            "SpearmanrResult(correlation=nan, pvalue=nan)\n",
            "SpearmanrResult(correlation=nan, pvalue=nan)\n",
            "SpearmanrResult(correlation=nan, pvalue=nan)\n",
            "SpearmanrResult(correlation=nan, pvalue=nan)\n",
            "SpearmanrResult(correlation=nan, pvalue=nan)\n",
            "SpearmanrResult(correlation=nan, pvalue=nan)\n",
            "SpearmanrResult(correlation=nan, pvalue=nan)\n",
            "SpearmanrResult(correlation=nan, pvalue=nan)\n",
            "SpearmanrResult(correlation=nan, pvalue=nan)\n",
            "SpearmanrResult(correlation=nan, pvalue=nan)\n",
            "SpearmanrResult(correlation=nan, pvalue=nan)\n",
            "SpearmanrResult(correlation=nan, pvalue=nan)\n",
            "SpearmanrResult(correlation=nan, pvalue=nan)\n",
            "SpearmanrResult(correlation=nan, pvalue=nan)\n",
            "SpearmanrResult(correlation=nan, pvalue=nan)\n",
            "SpearmanrResult(correlation=nan, pvalue=nan)\n",
            "SpearmanrResult(correlation=nan, pvalue=nan)\n",
            "SpearmanrResult(correlation=nan, pvalue=nan)\n",
            "SpearmanrResult(correlation=nan, pvalue=nan)\n",
            "SpearmanrResult(correlation=nan, pvalue=nan)\n",
            "SpearmanrResult(correlation=nan, pvalue=nan)\n",
            "SpearmanrResult(correlation=nan, pvalue=nan)\n",
            "SpearmanrResult(correlation=nan, pvalue=nan)\n",
            "SpearmanrResult(correlation=nan, pvalue=nan)\n",
            "SpearmanrResult(correlation=nan, pvalue=nan)\n",
            "SpearmanrResult(correlation=nan, pvalue=nan)\n",
            "SpearmanrResult(correlation=nan, pvalue=nan)\n",
            "SpearmanrResult(correlation=nan, pvalue=nan)\n",
            "SpearmanrResult(correlation=nan, pvalue=nan)\n",
            "SpearmanrResult(correlation=nan, pvalue=nan)\n",
            "SpearmanrResult(correlation=nan, pvalue=nan)\n",
            "SpearmanrResult(correlation=nan, pvalue=nan)\n",
            "SpearmanrResult(correlation=nan, pvalue=nan)\n",
            "SpearmanrResult(correlation=nan, pvalue=nan)\n",
            "SpearmanrResult(correlation=nan, pvalue=nan)\n",
            "SpearmanrResult(correlation=nan, pvalue=nan)\n",
            "SpearmanrResult(correlation=nan, pvalue=nan)\n",
            "SpearmanrResult(correlation=nan, pvalue=nan)\n",
            "SpearmanrResult(correlation=nan, pvalue=nan)\n",
            "SpearmanrResult(correlation=nan, pvalue=nan)\n",
            "SpearmanrResult(correlation=nan, pvalue=nan)\n",
            "SpearmanrResult(correlation=nan, pvalue=nan)\n",
            "SpearmanrResult(correlation=nan, pvalue=nan)\n",
            "SpearmanrResult(correlation=nan, pvalue=nan)\n",
            "SpearmanrResult(correlation=nan, pvalue=nan)\n",
            "SpearmanrResult(correlation=nan, pvalue=nan)\n",
            "SpearmanrResult(correlation=nan, pvalue=nan)\n",
            "SpearmanrResult(correlation=nan, pvalue=nan)\n",
            "SpearmanrResult(correlation=nan, pvalue=nan)\n",
            "SpearmanrResult(correlation=nan, pvalue=nan)\n",
            "SpearmanrResult(correlation=nan, pvalue=nan)\n",
            "SpearmanrResult(correlation=nan, pvalue=nan)\n",
            "SpearmanrResult(correlation=nan, pvalue=nan)\n",
            "SpearmanrResult(correlation=nan, pvalue=nan)\n",
            "SpearmanrResult(correlation=nan, pvalue=nan)\n",
            "SpearmanrResult(correlation=nan, pvalue=nan)\n",
            "SpearmanrResult(correlation=nan, pvalue=nan)\n",
            "SpearmanrResult(correlation=nan, pvalue=nan)\n",
            "SpearmanrResult(correlation=nan, pvalue=nan)\n",
            "SpearmanrResult(correlation=nan, pvalue=nan)\n",
            "SpearmanrResult(correlation=nan, pvalue=nan)\n",
            "SpearmanrResult(correlation=nan, pvalue=nan)\n",
            "SpearmanrResult(correlation=nan, pvalue=nan)\n",
            "SpearmanrResult(correlation=nan, pvalue=nan)\n",
            "SpearmanrResult(correlation=nan, pvalue=nan)\n",
            "SpearmanrResult(correlation=nan, pvalue=nan)\n",
            "SpearmanrResult(correlation=nan, pvalue=nan)\n",
            "SpearmanrResult(correlation=nan, pvalue=nan)\n",
            "SpearmanrResult(correlation=nan, pvalue=nan)\n",
            "SpearmanrResult(correlation=nan, pvalue=nan)\n",
            "SpearmanrResult(correlation=nan, pvalue=nan)\n",
            "SpearmanrResult(correlation=nan, pvalue=nan)\n",
            "SpearmanrResult(correlation=nan, pvalue=nan)\n",
            "SpearmanrResult(correlation=nan, pvalue=nan)\n",
            "SpearmanrResult(correlation=nan, pvalue=nan)\n",
            "SpearmanrResult(correlation=nan, pvalue=nan)\n",
            "SpearmanrResult(correlation=nan, pvalue=nan)\n",
            "SpearmanrResult(correlation=nan, pvalue=nan)\n",
            "SpearmanrResult(correlation=nan, pvalue=nan)\n",
            "SpearmanrResult(correlation=nan, pvalue=nan)\n",
            "SpearmanrResult(correlation=nan, pvalue=nan)\n",
            "SpearmanrResult(correlation=nan, pvalue=nan)\n",
            "SpearmanrResult(correlation=nan, pvalue=nan)\n",
            "SpearmanrResult(correlation=nan, pvalue=nan)\n",
            "SpearmanrResult(correlation=nan, pvalue=nan)\n",
            "SpearmanrResult(correlation=nan, pvalue=nan)\n",
            "SpearmanrResult(correlation=nan, pvalue=nan)\n",
            "SpearmanrResult(correlation=nan, pvalue=nan)\n",
            "SpearmanrResult(correlation=nan, pvalue=nan)\n",
            "SpearmanrResult(correlation=nan, pvalue=nan)\n",
            "SpearmanrResult(correlation=nan, pvalue=nan)\n",
            "SpearmanrResult(correlation=nan, pvalue=nan)\n",
            "SpearmanrResult(correlation=nan, pvalue=nan)\n",
            "SpearmanrResult(correlation=nan, pvalue=nan)\n",
            "SpearmanrResult(correlation=nan, pvalue=nan)\n",
            "SpearmanrResult(correlation=nan, pvalue=nan)\n",
            "SpearmanrResult(correlation=nan, pvalue=nan)\n",
            "SpearmanrResult(correlation=nan, pvalue=nan)\n",
            "SpearmanrResult(correlation=nan, pvalue=nan)\n",
            "SpearmanrResult(correlation=nan, pvalue=nan)\n",
            "SpearmanrResult(correlation=nan, pvalue=nan)\n",
            "SpearmanrResult(correlation=nan, pvalue=nan)\n",
            "SpearmanrResult(correlation=nan, pvalue=nan)\n",
            "SpearmanrResult(correlation=nan, pvalue=nan)\n",
            "SpearmanrResult(correlation=nan, pvalue=nan)\n",
            "SpearmanrResult(correlation=nan, pvalue=nan)\n",
            "SpearmanrResult(correlation=nan, pvalue=nan)\n",
            "SpearmanrResult(correlation=nan, pvalue=nan)\n",
            "SpearmanrResult(correlation=nan, pvalue=nan)\n",
            "SpearmanrResult(correlation=nan, pvalue=nan)\n",
            "SpearmanrResult(correlation=nan, pvalue=nan)\n",
            "SpearmanrResult(correlation=nan, pvalue=nan)\n",
            "SpearmanrResult(correlation=nan, pvalue=nan)\n",
            "SpearmanrResult(correlation=nan, pvalue=nan)\n",
            "SpearmanrResult(correlation=nan, pvalue=nan)\n",
            "SpearmanrResult(correlation=nan, pvalue=nan)\n",
            "SpearmanrResult(correlation=nan, pvalue=nan)\n",
            "SpearmanrResult(correlation=nan, pvalue=nan)\n",
            "SpearmanrResult(correlation=nan, pvalue=nan)\n",
            "SpearmanrResult(correlation=nan, pvalue=nan)\n",
            "SpearmanrResult(correlation=nan, pvalue=nan)\n",
            "SpearmanrResult(correlation=nan, pvalue=nan)\n",
            "SpearmanrResult(correlation=nan, pvalue=nan)\n",
            "SpearmanrResult(correlation=nan, pvalue=nan)\n",
            "SpearmanrResult(correlation=nan, pvalue=nan)\n",
            "SpearmanrResult(correlation=nan, pvalue=nan)\n",
            "SpearmanrResult(correlation=nan, pvalue=nan)\n",
            "SpearmanrResult(correlation=nan, pvalue=nan)\n"
          ],
          "name": "stdout"
        }
      ]
    }
  ]
}