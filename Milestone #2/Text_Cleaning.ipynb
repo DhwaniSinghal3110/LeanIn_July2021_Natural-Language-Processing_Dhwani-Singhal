{
  "nbformat": 4,
  "nbformat_minor": 0,
  "metadata": {
    "colab": {
      "name": "Text Cleaning.ipynb",
      "provenance": [],
      "collapsed_sections": []
    },
    "kernelspec": {
      "name": "python3",
      "display_name": "Python 3"
    }
  },
  "cells": [
    {
      "cell_type": "markdown",
      "metadata": {
        "id": "P--FS8fHLycN"
      },
      "source": [
        "# **TEXT CLEANING**"
      ]
    },
    {
      "cell_type": "code",
      "metadata": {
        "colab": {
          "base_uri": "https://localhost:8080/"
        },
        "id": "KAgQjpNCrR8k",
        "outputId": "e7a0481f-e22d-4877-c7d3-387adf1d4ccf"
      },
      "source": [
        "import re\n",
        "import matplotlib\n",
        "import numpy as np\n",
        "import matplotlib.pyplot as plt\n",
        "import pandas as pd\n",
        "import string\n",
        "\n",
        "from nltk.corpus import stopwords\n",
        "import nltk\n",
        "import numba\n",
        "from numba import jit\n",
        "\n",
        "nltk.download('stopwords')\n",
        "nltk.download('punkt')\n",
        "nltk.download('averaged_perceptron_tagger')"
      ],
      "execution_count": 21,
      "outputs": [
        {
          "output_type": "stream",
          "text": [
            "[nltk_data] Downloading package stopwords to /root/nltk_data...\n",
            "[nltk_data]   Package stopwords is already up-to-date!\n",
            "[nltk_data] Downloading package punkt to /root/nltk_data...\n",
            "[nltk_data]   Package punkt is already up-to-date!\n",
            "[nltk_data] Downloading package averaged_perceptron_tagger to\n",
            "[nltk_data]     /root/nltk_data...\n",
            "[nltk_data]   Package averaged_perceptron_tagger is already up-to-\n",
            "[nltk_data]       date!\n"
          ],
          "name": "stdout"
        },
        {
          "output_type": "execute_result",
          "data": {
            "text/plain": [
              "True"
            ]
          },
          "metadata": {
            "tags": []
          },
          "execution_count": 21
        }
      ]
    },
    {
      "cell_type": "code",
      "metadata": {
        "colab": {
          "base_uri": "https://localhost:8080/"
        },
        "id": "bhj5eQGqrs5R",
        "outputId": "f89734ef-f7dc-4d97-8fd9-2a4747f2ba76"
      },
      "source": [
        "!unzip english_dataset.zip\n",
        "!rm -rf english_dataset.zip"
      ],
      "execution_count": 2,
      "outputs": [
        {
          "output_type": "stream",
          "text": [
            "Archive:  english_dataset.zip\n",
            "   creating: english_dataset/\n",
            "  inflating: __MACOSX/._english_dataset  \n",
            "  inflating: english_dataset/english_dataset.tsv  \n",
            "  inflating: __MACOSX/english_dataset/._english_dataset.tsv  \n",
            "  inflating: english_dataset/hasoc2019_en_test-2919.tsv  \n",
            "  inflating: __MACOSX/english_dataset/._hasoc2019_en_test-2919.tsv  \n"
          ],
          "name": "stdout"
        }
      ]
    },
    {
      "cell_type": "markdown",
      "metadata": {
        "id": "_KH1c1bXJ6tc"
      },
      "source": [
        "# Converting all letter to Uppercase"
      ]
    },
    {
      "cell_type": "code",
      "metadata": {
        "id": "JfhI6aXE1PAV",
        "colab": {
          "base_uri": "https://localhost:8080/",
          "height": 206
        },
        "outputId": "80c5fad2-a97d-42fc-9404-3a548d3d9e90"
      },
      "source": [
        "import csv\n",
        "data = pd.read_csv('english_dataset/english_dataset.tsv',sep='\\t')\n",
        "data_2=pd.read_csv('english_dataset/hasoc2019_en_test-2919.tsv',sep='\\t')\n",
        "data = pd.concat([data, data_2], ignore_index=True, sort=False)\n",
        "\n",
        "for row in data:\n",
        "  data[row]=data[row].str.upper()\n",
        "data.head()"
      ],
      "execution_count": 22,
      "outputs": [
        {
          "output_type": "execute_result",
          "data": {
            "text/html": [
              "<div>\n",
              "<style scoped>\n",
              "    .dataframe tbody tr th:only-of-type {\n",
              "        vertical-align: middle;\n",
              "    }\n",
              "\n",
              "    .dataframe tbody tr th {\n",
              "        vertical-align: top;\n",
              "    }\n",
              "\n",
              "    .dataframe thead th {\n",
              "        text-align: right;\n",
              "    }\n",
              "</style>\n",
              "<table border=\"1\" class=\"dataframe\">\n",
              "  <thead>\n",
              "    <tr style=\"text-align: right;\">\n",
              "      <th></th>\n",
              "      <th>text_id</th>\n",
              "      <th>text</th>\n",
              "      <th>task_1</th>\n",
              "      <th>task_2</th>\n",
              "      <th>task_3</th>\n",
              "    </tr>\n",
              "  </thead>\n",
              "  <tbody>\n",
              "    <tr>\n",
              "      <th>0</th>\n",
              "      <td>HASOC_EN_1</td>\n",
              "      <td>#DHONIKEEPSTHEGLOVE | WATCH: SPORTS MINISTER K...</td>\n",
              "      <td>NOT</td>\n",
              "      <td>NONE</td>\n",
              "      <td>NONE</td>\n",
              "    </tr>\n",
              "    <tr>\n",
              "      <th>1</th>\n",
              "      <td>HASOC_EN_2</td>\n",
              "      <td>@POLITICO NO. WE SHOULD REMEMBER VERY CLEARLY ...</td>\n",
              "      <td>HOF</td>\n",
              "      <td>HATE</td>\n",
              "      <td>TIN</td>\n",
              "    </tr>\n",
              "    <tr>\n",
              "      <th>2</th>\n",
              "      <td>HASOC_EN_3</td>\n",
              "      <td>@CRICKETWORLDCUP GUESS WHO WOULD BE THE WINNER...</td>\n",
              "      <td>NOT</td>\n",
              "      <td>NONE</td>\n",
              "      <td>NONE</td>\n",
              "    </tr>\n",
              "    <tr>\n",
              "      <th>3</th>\n",
              "      <td>HASOC_EN_4</td>\n",
              "      <td>CORBYN IS TOO POLITICALLY INTELLECTUAL FOR #BO...</td>\n",
              "      <td>NOT</td>\n",
              "      <td>NONE</td>\n",
              "      <td>NONE</td>\n",
              "    </tr>\n",
              "    <tr>\n",
              "      <th>4</th>\n",
              "      <td>HASOC_EN_5</td>\n",
              "      <td>ALL THE BEST TO #TEAMINDIA FOR ANOTHER SWIMMIN...</td>\n",
              "      <td>NOT</td>\n",
              "      <td>NONE</td>\n",
              "      <td>NONE</td>\n",
              "    </tr>\n",
              "  </tbody>\n",
              "</table>\n",
              "</div>"
            ],
            "text/plain": [
              "      text_id                                               text  ... task_2 task_3\n",
              "0  HASOC_EN_1  #DHONIKEEPSTHEGLOVE | WATCH: SPORTS MINISTER K...  ...   NONE   NONE\n",
              "1  HASOC_EN_2  @POLITICO NO. WE SHOULD REMEMBER VERY CLEARLY ...  ...   HATE    TIN\n",
              "2  HASOC_EN_3  @CRICKETWORLDCUP GUESS WHO WOULD BE THE WINNER...  ...   NONE   NONE\n",
              "3  HASOC_EN_4  CORBYN IS TOO POLITICALLY INTELLECTUAL FOR #BO...  ...   NONE   NONE\n",
              "4  HASOC_EN_5  ALL THE BEST TO #TEAMINDIA FOR ANOTHER SWIMMIN...  ...   NONE   NONE\n",
              "\n",
              "[5 rows x 5 columns]"
            ]
          },
          "metadata": {
            "tags": []
          },
          "execution_count": 22
        }
      ]
    },
    {
      "cell_type": "markdown",
      "metadata": {
        "id": "LFbDVmHLKPJj"
      },
      "source": [
        "# Converting all letters to Lowercase"
      ]
    },
    {
      "cell_type": "code",
      "metadata": {
        "colab": {
          "base_uri": "https://localhost:8080/",
          "height": 206
        },
        "id": "F--uZt-_KUxv",
        "outputId": "ccd8c261-0eb9-441e-c260-1d59a3f75be1"
      },
      "source": [
        "import csv\n",
        "for row in data:\n",
        "  data[row]=data[row].str.lower()\n",
        "data.head()"
      ],
      "execution_count": 23,
      "outputs": [
        {
          "output_type": "execute_result",
          "data": {
            "text/html": [
              "<div>\n",
              "<style scoped>\n",
              "    .dataframe tbody tr th:only-of-type {\n",
              "        vertical-align: middle;\n",
              "    }\n",
              "\n",
              "    .dataframe tbody tr th {\n",
              "        vertical-align: top;\n",
              "    }\n",
              "\n",
              "    .dataframe thead th {\n",
              "        text-align: right;\n",
              "    }\n",
              "</style>\n",
              "<table border=\"1\" class=\"dataframe\">\n",
              "  <thead>\n",
              "    <tr style=\"text-align: right;\">\n",
              "      <th></th>\n",
              "      <th>text_id</th>\n",
              "      <th>text</th>\n",
              "      <th>task_1</th>\n",
              "      <th>task_2</th>\n",
              "      <th>task_3</th>\n",
              "    </tr>\n",
              "  </thead>\n",
              "  <tbody>\n",
              "    <tr>\n",
              "      <th>0</th>\n",
              "      <td>hasoc_en_1</td>\n",
              "      <td>#dhonikeepstheglove | watch: sports minister k...</td>\n",
              "      <td>not</td>\n",
              "      <td>none</td>\n",
              "      <td>none</td>\n",
              "    </tr>\n",
              "    <tr>\n",
              "      <th>1</th>\n",
              "      <td>hasoc_en_2</td>\n",
              "      <td>@politico no. we should remember very clearly ...</td>\n",
              "      <td>hof</td>\n",
              "      <td>hate</td>\n",
              "      <td>tin</td>\n",
              "    </tr>\n",
              "    <tr>\n",
              "      <th>2</th>\n",
              "      <td>hasoc_en_3</td>\n",
              "      <td>@cricketworldcup guess who would be the winner...</td>\n",
              "      <td>not</td>\n",
              "      <td>none</td>\n",
              "      <td>none</td>\n",
              "    </tr>\n",
              "    <tr>\n",
              "      <th>3</th>\n",
              "      <td>hasoc_en_4</td>\n",
              "      <td>corbyn is too politically intellectual for #bo...</td>\n",
              "      <td>not</td>\n",
              "      <td>none</td>\n",
              "      <td>none</td>\n",
              "    </tr>\n",
              "    <tr>\n",
              "      <th>4</th>\n",
              "      <td>hasoc_en_5</td>\n",
              "      <td>all the best to #teamindia for another swimmin...</td>\n",
              "      <td>not</td>\n",
              "      <td>none</td>\n",
              "      <td>none</td>\n",
              "    </tr>\n",
              "  </tbody>\n",
              "</table>\n",
              "</div>"
            ],
            "text/plain": [
              "      text_id                                               text  ... task_2 task_3\n",
              "0  hasoc_en_1  #dhonikeepstheglove | watch: sports minister k...  ...   none   none\n",
              "1  hasoc_en_2  @politico no. we should remember very clearly ...  ...   hate    tin\n",
              "2  hasoc_en_3  @cricketworldcup guess who would be the winner...  ...   none   none\n",
              "3  hasoc_en_4  corbyn is too politically intellectual for #bo...  ...   none   none\n",
              "4  hasoc_en_5  all the best to #teamindia for another swimmin...  ...   none   none\n",
              "\n",
              "[5 rows x 5 columns]"
            ]
          },
          "metadata": {
            "tags": []
          },
          "execution_count": 23
        }
      ]
    },
    {
      "cell_type": "markdown",
      "metadata": {
        "id": "rSiRihjuKcLT"
      },
      "source": [
        "# Removing Numbers"
      ]
    },
    {
      "cell_type": "code",
      "metadata": {
        "colab": {
          "base_uri": "https://localhost:8080/",
          "height": 206
        },
        "id": "xoNGlZk9Kevj",
        "outputId": "f2dfd043-0576-4ba7-8991-0ef3bf712191"
      },
      "source": [
        "import re\n",
        "for row in data:\n",
        "  data[row]=data[row].str.replace('\\d+','')\n",
        "data.head()"
      ],
      "execution_count": 24,
      "outputs": [
        {
          "output_type": "execute_result",
          "data": {
            "text/html": [
              "<div>\n",
              "<style scoped>\n",
              "    .dataframe tbody tr th:only-of-type {\n",
              "        vertical-align: middle;\n",
              "    }\n",
              "\n",
              "    .dataframe tbody tr th {\n",
              "        vertical-align: top;\n",
              "    }\n",
              "\n",
              "    .dataframe thead th {\n",
              "        text-align: right;\n",
              "    }\n",
              "</style>\n",
              "<table border=\"1\" class=\"dataframe\">\n",
              "  <thead>\n",
              "    <tr style=\"text-align: right;\">\n",
              "      <th></th>\n",
              "      <th>text_id</th>\n",
              "      <th>text</th>\n",
              "      <th>task_1</th>\n",
              "      <th>task_2</th>\n",
              "      <th>task_3</th>\n",
              "    </tr>\n",
              "  </thead>\n",
              "  <tbody>\n",
              "    <tr>\n",
              "      <th>0</th>\n",
              "      <td>hasoc_en_</td>\n",
              "      <td>#dhonikeepstheglove | watch: sports minister k...</td>\n",
              "      <td>not</td>\n",
              "      <td>none</td>\n",
              "      <td>none</td>\n",
              "    </tr>\n",
              "    <tr>\n",
              "      <th>1</th>\n",
              "      <td>hasoc_en_</td>\n",
              "      <td>@politico no. we should remember very clearly ...</td>\n",
              "      <td>hof</td>\n",
              "      <td>hate</td>\n",
              "      <td>tin</td>\n",
              "    </tr>\n",
              "    <tr>\n",
              "      <th>2</th>\n",
              "      <td>hasoc_en_</td>\n",
              "      <td>@cricketworldcup guess who would be the winner...</td>\n",
              "      <td>not</td>\n",
              "      <td>none</td>\n",
              "      <td>none</td>\n",
              "    </tr>\n",
              "    <tr>\n",
              "      <th>3</th>\n",
              "      <td>hasoc_en_</td>\n",
              "      <td>corbyn is too politically intellectual for #bo...</td>\n",
              "      <td>not</td>\n",
              "      <td>none</td>\n",
              "      <td>none</td>\n",
              "    </tr>\n",
              "    <tr>\n",
              "      <th>4</th>\n",
              "      <td>hasoc_en_</td>\n",
              "      <td>all the best to #teamindia for another swimmin...</td>\n",
              "      <td>not</td>\n",
              "      <td>none</td>\n",
              "      <td>none</td>\n",
              "    </tr>\n",
              "  </tbody>\n",
              "</table>\n",
              "</div>"
            ],
            "text/plain": [
              "     text_id                                               text  ... task_2 task_3\n",
              "0  hasoc_en_  #dhonikeepstheglove | watch: sports minister k...  ...   none   none\n",
              "1  hasoc_en_  @politico no. we should remember very clearly ...  ...   hate    tin\n",
              "2  hasoc_en_  @cricketworldcup guess who would be the winner...  ...   none   none\n",
              "3  hasoc_en_  corbyn is too politically intellectual for #bo...  ...   none   none\n",
              "4  hasoc_en_  all the best to #teamindia for another swimmin...  ...   none   none\n",
              "\n",
              "[5 rows x 5 columns]"
            ]
          },
          "metadata": {
            "tags": []
          },
          "execution_count": 24
        }
      ]
    },
    {
      "cell_type": "markdown",
      "metadata": {
        "id": "Oxje_PHxKuzQ"
      },
      "source": [
        "# Removing Punctuation"
      ]
    },
    {
      "cell_type": "code",
      "metadata": {
        "colab": {
          "base_uri": "https://localhost:8080/",
          "height": 206
        },
        "id": "slWKj0sHKx18",
        "outputId": "58a0e6cd-b19e-48ce-82b4-bb92d30e63ea"
      },
      "source": [
        "import re\n",
        "for row in data:\n",
        "  data[row]=data[row].str.replace('[^\\w\\s]','')\n",
        "data.head()"
      ],
      "execution_count": 25,
      "outputs": [
        {
          "output_type": "execute_result",
          "data": {
            "text/html": [
              "<div>\n",
              "<style scoped>\n",
              "    .dataframe tbody tr th:only-of-type {\n",
              "        vertical-align: middle;\n",
              "    }\n",
              "\n",
              "    .dataframe tbody tr th {\n",
              "        vertical-align: top;\n",
              "    }\n",
              "\n",
              "    .dataframe thead th {\n",
              "        text-align: right;\n",
              "    }\n",
              "</style>\n",
              "<table border=\"1\" class=\"dataframe\">\n",
              "  <thead>\n",
              "    <tr style=\"text-align: right;\">\n",
              "      <th></th>\n",
              "      <th>text_id</th>\n",
              "      <th>text</th>\n",
              "      <th>task_1</th>\n",
              "      <th>task_2</th>\n",
              "      <th>task_3</th>\n",
              "    </tr>\n",
              "  </thead>\n",
              "  <tbody>\n",
              "    <tr>\n",
              "      <th>0</th>\n",
              "      <td>hasoc_en_</td>\n",
              "      <td>dhonikeepstheglove  watch sports minister kire...</td>\n",
              "      <td>not</td>\n",
              "      <td>none</td>\n",
              "      <td>none</td>\n",
              "    </tr>\n",
              "    <tr>\n",
              "      <th>1</th>\n",
              "      <td>hasoc_en_</td>\n",
              "      <td>politico no we should remember very clearly th...</td>\n",
              "      <td>hof</td>\n",
              "      <td>hate</td>\n",
              "      <td>tin</td>\n",
              "    </tr>\n",
              "    <tr>\n",
              "      <th>2</th>\n",
              "      <td>hasoc_en_</td>\n",
              "      <td>cricketworldcup guess who would be the winner ...</td>\n",
              "      <td>not</td>\n",
              "      <td>none</td>\n",
              "      <td>none</td>\n",
              "    </tr>\n",
              "    <tr>\n",
              "      <th>3</th>\n",
              "      <td>hasoc_en_</td>\n",
              "      <td>corbyn is too politically intellectual for bor...</td>\n",
              "      <td>not</td>\n",
              "      <td>none</td>\n",
              "      <td>none</td>\n",
              "    </tr>\n",
              "    <tr>\n",
              "      <th>4</th>\n",
              "      <td>hasoc_en_</td>\n",
              "      <td>all the best to teamindia for another swimming...</td>\n",
              "      <td>not</td>\n",
              "      <td>none</td>\n",
              "      <td>none</td>\n",
              "    </tr>\n",
              "  </tbody>\n",
              "</table>\n",
              "</div>"
            ],
            "text/plain": [
              "     text_id                                               text  ... task_2 task_3\n",
              "0  hasoc_en_  dhonikeepstheglove  watch sports minister kire...  ...   none   none\n",
              "1  hasoc_en_  politico no we should remember very clearly th...  ...   hate    tin\n",
              "2  hasoc_en_  cricketworldcup guess who would be the winner ...  ...   none   none\n",
              "3  hasoc_en_  corbyn is too politically intellectual for bor...  ...   none   none\n",
              "4  hasoc_en_  all the best to teamindia for another swimming...  ...   none   none\n",
              "\n",
              "[5 rows x 5 columns]"
            ]
          },
          "metadata": {
            "tags": []
          },
          "execution_count": 25
        }
      ]
    },
    {
      "cell_type": "markdown",
      "metadata": {
        "id": "1IsvLRuiK3CS"
      },
      "source": [
        "# Removing Stopwords"
      ]
    },
    {
      "cell_type": "code",
      "metadata": {
        "colab": {
          "base_uri": "https://localhost:8080/",
          "height": 676
        },
        "id": "rA2BgPaDK7zI",
        "outputId": "d7986174-b901-4ee1-f45c-73237119b7fd"
      },
      "source": [
        "stop =stopwords.words('english')\n",
        "#data=pd.DataFrame(data)\n",
        "for row in data:\n",
        " data[row]=data[row].apply(lambda x: ' '.join([word for word in x.split() if word not in (stop)]))\n",
        "data.head(20)"
      ],
      "execution_count": 27,
      "outputs": [
        {
          "output_type": "execute_result",
          "data": {
            "text/html": [
              "<div>\n",
              "<style scoped>\n",
              "    .dataframe tbody tr th:only-of-type {\n",
              "        vertical-align: middle;\n",
              "    }\n",
              "\n",
              "    .dataframe tbody tr th {\n",
              "        vertical-align: top;\n",
              "    }\n",
              "\n",
              "    .dataframe thead th {\n",
              "        text-align: right;\n",
              "    }\n",
              "</style>\n",
              "<table border=\"1\" class=\"dataframe\">\n",
              "  <thead>\n",
              "    <tr style=\"text-align: right;\">\n",
              "      <th></th>\n",
              "      <th>text_id</th>\n",
              "      <th>text</th>\n",
              "      <th>task_1</th>\n",
              "      <th>task_2</th>\n",
              "      <th>task_3</th>\n",
              "    </tr>\n",
              "  </thead>\n",
              "  <tbody>\n",
              "    <tr>\n",
              "      <th>0</th>\n",
              "      <td>hasoc_en_</td>\n",
              "      <td>dhonikeepstheglove watch sports minister kiren...</td>\n",
              "      <td></td>\n",
              "      <td>none</td>\n",
              "      <td>none</td>\n",
              "    </tr>\n",
              "    <tr>\n",
              "      <th>1</th>\n",
              "      <td>hasoc_en_</td>\n",
              "      <td>politico remember clearly individual admitted ...</td>\n",
              "      <td>hof</td>\n",
              "      <td>hate</td>\n",
              "      <td>tin</td>\n",
              "    </tr>\n",
              "    <tr>\n",
              "      <th>2</th>\n",
              "      <td>hasoc_en_</td>\n",
              "      <td>cricketworldcup guess would winner cwc team ge...</td>\n",
              "      <td></td>\n",
              "      <td>none</td>\n",
              "      <td>none</td>\n",
              "    </tr>\n",
              "    <tr>\n",
              "      <th>3</th>\n",
              "      <td>hasoc_en_</td>\n",
              "      <td>corbyn politically intellectual borisjohnsonsh...</td>\n",
              "      <td></td>\n",
              "      <td>none</td>\n",
              "      <td>none</td>\n",
              "    </tr>\n",
              "    <tr>\n",
              "      <th>4</th>\n",
              "      <td>hasoc_en_</td>\n",
              "      <td>best teamindia another swimming competition su...</td>\n",
              "      <td></td>\n",
              "      <td>none</td>\n",
              "      <td>none</td>\n",
              "    </tr>\n",
              "    <tr>\n",
              "      <th>5</th>\n",
              "      <td>hasoc_en_</td>\n",
              "      <td>kellymiller therealoj hope remembered wipe blo...</td>\n",
              "      <td></td>\n",
              "      <td>none</td>\n",
              "      <td>none</td>\n",
              "    </tr>\n",
              "    <tr>\n",
              "      <th>6</th>\n",
              "      <td>hasoc_en_</td>\n",
              "      <td>icc latest design wc trophy cwc cwc shameonicc...</td>\n",
              "      <td></td>\n",
              "      <td>none</td>\n",
              "      <td>none</td>\n",
              "    </tr>\n",
              "    <tr>\n",
              "      <th>7</th>\n",
              "      <td>hasoc_en_</td>\n",
              "      <td>ados trendingnow blacklivesmatter justice fuck...</td>\n",
              "      <td>hof</td>\n",
              "      <td>prfn</td>\n",
              "      <td>tin</td>\n",
              "    </tr>\n",
              "    <tr>\n",
              "      <th>8</th>\n",
              "      <td>hasoc_en_</td>\n",
              "      <td>thanks support wow k graffiti massive impact n...</td>\n",
              "      <td></td>\n",
              "      <td>none</td>\n",
              "      <td>none</td>\n",
              "    </tr>\n",
              "    <tr>\n",
              "      <th>9</th>\n",
              "      <td>hasoc_en_</td>\n",
              "      <td>wearing balidaanbadge gloves msdhoni shown lov...</td>\n",
              "      <td></td>\n",
              "      <td>none</td>\n",
              "      <td>none</td>\n",
              "    </tr>\n",
              "    <tr>\n",
              "      <th>10</th>\n",
              "      <td>hasoc_en_</td>\n",
              "      <td>mahendra singh dhonis love nation armed forces...</td>\n",
              "      <td></td>\n",
              "      <td>none</td>\n",
              "      <td>none</td>\n",
              "    </tr>\n",
              "    <tr>\n",
              "      <th>11</th>\n",
              "      <td>hasoc_en_</td>\n",
              "      <td>dont know much take compulsive liar trumphours...</td>\n",
              "      <td>hof</td>\n",
              "      <td>hate</td>\n",
              "      <td>tin</td>\n",
              "    </tr>\n",
              "    <tr>\n",
              "      <th>12</th>\n",
              "      <td>hasoc_en_</td>\n",
              "      <td>shameoniccicc winner teamrain icc run teamrain...</td>\n",
              "      <td></td>\n",
              "      <td>none</td>\n",
              "      <td>none</td>\n",
              "    </tr>\n",
              "    <tr>\n",
              "      <th>13</th>\n",
              "      <td>hasoc_en_</td>\n",
              "      <td>narendramodi pmoindia_namo narendramodi pmoind...</td>\n",
              "      <td></td>\n",
              "      <td>none</td>\n",
              "      <td>none</td>\n",
              "    </tr>\n",
              "    <tr>\n",
              "      <th>14</th>\n",
              "      <td>hasoc_en_</td>\n",
              "      <td>icc denies request bcci allow msd wear gloves ...</td>\n",
              "      <td></td>\n",
              "      <td>none</td>\n",
              "      <td>none</td>\n",
              "    </tr>\n",
              "    <tr>\n",
              "      <th>15</th>\n",
              "      <td>hasoc_en_</td>\n",
              "      <td>good work icc keep going destroy whole fucking...</td>\n",
              "      <td>hof</td>\n",
              "      <td>prfn</td>\n",
              "      <td>tin</td>\n",
              "    </tr>\n",
              "    <tr>\n",
              "      <th>16</th>\n",
              "      <td>hasoc_en_</td>\n",
              "      <td>wow youre full matthancock borisjohnsonshouldn...</td>\n",
              "      <td></td>\n",
              "      <td>none</td>\n",
              "      <td>none</td>\n",
              "    </tr>\n",
              "    <tr>\n",
              "      <th>17</th>\n",
              "      <td>hasoc_en_</td>\n",
              "      <td>indian spectators shd hv balidanbadge ground d...</td>\n",
              "      <td></td>\n",
              "      <td>none</td>\n",
              "      <td>none</td>\n",
              "    </tr>\n",
              "    <tr>\n",
              "      <th>18</th>\n",
              "      <td>hasoc_en_</td>\n",
              "      <td>icc bcci virat kholi tattoos dhonikeepstheglov...</td>\n",
              "      <td></td>\n",
              "      <td>none</td>\n",
              "      <td>none</td>\n",
              "    </tr>\n",
              "    <tr>\n",
              "      <th>19</th>\n",
              "      <td>hasoc_en_</td>\n",
              "      <td>important indiawithdhoni dhonikeepstheglove ht...</td>\n",
              "      <td></td>\n",
              "      <td>none</td>\n",
              "      <td>none</td>\n",
              "    </tr>\n",
              "  </tbody>\n",
              "</table>\n",
              "</div>"
            ],
            "text/plain": [
              "      text_id                                               text  ... task_2 task_3\n",
              "0   hasoc_en_  dhonikeepstheglove watch sports minister kiren...  ...   none   none\n",
              "1   hasoc_en_  politico remember clearly individual admitted ...  ...   hate    tin\n",
              "2   hasoc_en_  cricketworldcup guess would winner cwc team ge...  ...   none   none\n",
              "3   hasoc_en_  corbyn politically intellectual borisjohnsonsh...  ...   none   none\n",
              "4   hasoc_en_  best teamindia another swimming competition su...  ...   none   none\n",
              "5   hasoc_en_  kellymiller therealoj hope remembered wipe blo...  ...   none   none\n",
              "6   hasoc_en_  icc latest design wc trophy cwc cwc shameonicc...  ...   none   none\n",
              "7   hasoc_en_  ados trendingnow blacklivesmatter justice fuck...  ...   prfn    tin\n",
              "8   hasoc_en_  thanks support wow k graffiti massive impact n...  ...   none   none\n",
              "9   hasoc_en_  wearing balidaanbadge gloves msdhoni shown lov...  ...   none   none\n",
              "10  hasoc_en_  mahendra singh dhonis love nation armed forces...  ...   none   none\n",
              "11  hasoc_en_  dont know much take compulsive liar trumphours...  ...   hate    tin\n",
              "12  hasoc_en_  shameoniccicc winner teamrain icc run teamrain...  ...   none   none\n",
              "13  hasoc_en_  narendramodi pmoindia_namo narendramodi pmoind...  ...   none   none\n",
              "14  hasoc_en_  icc denies request bcci allow msd wear gloves ...  ...   none   none\n",
              "15  hasoc_en_  good work icc keep going destroy whole fucking...  ...   prfn    tin\n",
              "16  hasoc_en_  wow youre full matthancock borisjohnsonshouldn...  ...   none   none\n",
              "17  hasoc_en_  indian spectators shd hv balidanbadge ground d...  ...   none   none\n",
              "18  hasoc_en_  icc bcci virat kholi tattoos dhonikeepstheglov...  ...   none   none\n",
              "19  hasoc_en_  important indiawithdhoni dhonikeepstheglove ht...  ...   none   none\n",
              "\n",
              "[20 rows x 5 columns]"
            ]
          },
          "metadata": {
            "tags": []
          },
          "execution_count": 27
        }
      ]
    },
    {
      "cell_type": "markdown",
      "metadata": {
        "id": "iK4b_DDULEDa"
      },
      "source": [
        "# Removing Whitespaces"
      ]
    },
    {
      "cell_type": "code",
      "metadata": {
        "colab": {
          "base_uri": "https://localhost:8080/",
          "height": 423
        },
        "id": "WfJvAtJELHvP",
        "outputId": "330d77c8-adee-4a14-fb02-75223a923465"
      },
      "source": [
        "import re\n",
        "for row in data:\n",
        "  data[row]=data[row].str.replace(' ','')\n",
        "data.head(100)"
      ],
      "execution_count": 28,
      "outputs": [
        {
          "output_type": "execute_result",
          "data": {
            "text/html": [
              "<div>\n",
              "<style scoped>\n",
              "    .dataframe tbody tr th:only-of-type {\n",
              "        vertical-align: middle;\n",
              "    }\n",
              "\n",
              "    .dataframe tbody tr th {\n",
              "        vertical-align: top;\n",
              "    }\n",
              "\n",
              "    .dataframe thead th {\n",
              "        text-align: right;\n",
              "    }\n",
              "</style>\n",
              "<table border=\"1\" class=\"dataframe\">\n",
              "  <thead>\n",
              "    <tr style=\"text-align: right;\">\n",
              "      <th></th>\n",
              "      <th>text_id</th>\n",
              "      <th>text</th>\n",
              "      <th>task_1</th>\n",
              "      <th>task_2</th>\n",
              "      <th>task_3</th>\n",
              "    </tr>\n",
              "  </thead>\n",
              "  <tbody>\n",
              "    <tr>\n",
              "      <th>0</th>\n",
              "      <td>hasoc_en_</td>\n",
              "      <td>dhonikeepstheglovewatchsportsministerkirenriji...</td>\n",
              "      <td></td>\n",
              "      <td>none</td>\n",
              "      <td>none</td>\n",
              "    </tr>\n",
              "    <tr>\n",
              "      <th>1</th>\n",
              "      <td>hasoc_en_</td>\n",
              "      <td>politicorememberclearlyindividualadmittedtreas...</td>\n",
              "      <td>hof</td>\n",
              "      <td>hate</td>\n",
              "      <td>tin</td>\n",
              "    </tr>\n",
              "    <tr>\n",
              "      <th>2</th>\n",
              "      <td>hasoc_en_</td>\n",
              "      <td>cricketworldcupguesswouldwinnercwcteamgetsmaxi...</td>\n",
              "      <td></td>\n",
              "      <td>none</td>\n",
              "      <td>none</td>\n",
              "    </tr>\n",
              "    <tr>\n",
              "      <th>3</th>\n",
              "      <td>hasoc_en_</td>\n",
              "      <td>corbynpoliticallyintellectualborisjohnsonshoul...</td>\n",
              "      <td></td>\n",
              "      <td>none</td>\n",
              "      <td>none</td>\n",
              "    </tr>\n",
              "    <tr>\n",
              "      <th>4</th>\n",
              "      <td>hasoc_en_</td>\n",
              "      <td>bestteamindiaanotherswimmingcompetitionsundayp...</td>\n",
              "      <td></td>\n",
              "      <td>none</td>\n",
              "      <td>none</td>\n",
              "    </tr>\n",
              "    <tr>\n",
              "      <th>...</th>\n",
              "      <td>...</td>\n",
              "      <td>...</td>\n",
              "      <td>...</td>\n",
              "      <td>...</td>\n",
              "      <td>...</td>\n",
              "    </tr>\n",
              "    <tr>\n",
              "      <th>95</th>\n",
              "      <td>hasoc_en_</td>\n",
              "      <td>kojikabumaggie_klausjoebidenanythinggettrumphe...</td>\n",
              "      <td>hof</td>\n",
              "      <td>hate</td>\n",
              "      <td>tin</td>\n",
              "    </tr>\n",
              "    <tr>\n",
              "      <th>96</th>\n",
              "      <td>hasoc_en_</td>\n",
              "      <td>borisjohnsonlieanythinggivesadvantagelocalelec...</td>\n",
              "      <td></td>\n",
              "      <td>none</td>\n",
              "      <td>none</td>\n",
              "    </tr>\n",
              "    <tr>\n",
              "      <th>97</th>\n",
              "      <td>hasoc_en_</td>\n",
              "      <td>ianbaggparttoldfeatureactaskedsellalbumshownop...</td>\n",
              "      <td></td>\n",
              "      <td>none</td>\n",
              "      <td>none</td>\n",
              "    </tr>\n",
              "    <tr>\n",
              "      <th>98</th>\n",
              "      <td>hasoc_en_</td>\n",
              "      <td>guidofawkesnastylottoryleadershipcontestconten...</td>\n",
              "      <td></td>\n",
              "      <td>none</td>\n",
              "      <td>none</td>\n",
              "    </tr>\n",
              "    <tr>\n",
              "      <th>99</th>\n",
              "      <td>hasoc_en_</td>\n",
              "      <td>marloncraftgangshitofficialmusicvideohttpstcoj...</td>\n",
              "      <td></td>\n",
              "      <td>none</td>\n",
              "      <td>none</td>\n",
              "    </tr>\n",
              "  </tbody>\n",
              "</table>\n",
              "<p>100 rows × 5 columns</p>\n",
              "</div>"
            ],
            "text/plain": [
              "      text_id                                               text  ... task_2 task_3\n",
              "0   hasoc_en_  dhonikeepstheglovewatchsportsministerkirenriji...  ...   none   none\n",
              "1   hasoc_en_  politicorememberclearlyindividualadmittedtreas...  ...   hate    tin\n",
              "2   hasoc_en_  cricketworldcupguesswouldwinnercwcteamgetsmaxi...  ...   none   none\n",
              "3   hasoc_en_  corbynpoliticallyintellectualborisjohnsonshoul...  ...   none   none\n",
              "4   hasoc_en_  bestteamindiaanotherswimmingcompetitionsundayp...  ...   none   none\n",
              "..        ...                                                ...  ...    ...    ...\n",
              "95  hasoc_en_  kojikabumaggie_klausjoebidenanythinggettrumphe...  ...   hate    tin\n",
              "96  hasoc_en_  borisjohnsonlieanythinggivesadvantagelocalelec...  ...   none   none\n",
              "97  hasoc_en_  ianbaggparttoldfeatureactaskedsellalbumshownop...  ...   none   none\n",
              "98  hasoc_en_  guidofawkesnastylottoryleadershipcontestconten...  ...   none   none\n",
              "99  hasoc_en_  marloncraftgangshitofficialmusicvideohttpstcoj...  ...   none   none\n",
              "\n",
              "[100 rows x 5 columns]"
            ]
          },
          "metadata": {
            "tags": []
          },
          "execution_count": 28
        }
      ]
    }
  ]
}