{
  "nbformat": 4,
  "nbformat_minor": 0,
  "metadata": {
    "colab": {
      "name": "Dhwani_Singhal_Assignment1_Language_Modelling.ipynb",
      "provenance": [],
      "collapsed_sections": []
    },
    "kernelspec": {
      "name": "python3",
      "display_name": "Python 3"
    },
    "language_info": {
      "name": "python"
    }
  },
  "cells": [
    {
      "cell_type": "markdown",
      "metadata": {
        "id": "dExWLjLWLxba"
      },
      "source": [
        "# Importing all Important libraries\n",
        "\n",
        "\n",
        "\n",
        "\n",
        "\n",
        "\n"
      ]
    },
    {
      "cell_type": "code",
      "metadata": {
        "id": "b6eR1DRLkxyL",
        "colab": {
          "base_uri": "https://localhost:8080/"
        },
        "outputId": "b5dc61e4-ef3f-4af4-f0b1-7c2b990556fc"
      },
      "source": [
        "import nltk\n",
        "nltk.download('punkt')"
      ],
      "execution_count": 39,
      "outputs": [
        {
          "output_type": "stream",
          "text": [
            "[nltk_data] Downloading package punkt to /root/nltk_data...\n",
            "[nltk_data]   Package punkt is already up-to-date!\n"
          ],
          "name": "stdout"
        },
        {
          "output_type": "execute_result",
          "data": {
            "text/plain": [
              "True"
            ]
          },
          "metadata": {
            "tags": []
          },
          "execution_count": 39
        }
      ]
    },
    {
      "cell_type": "code",
      "metadata": {
        "id": "TJcwZ1lVq-Ws"
      },
      "source": [
        "import nltk\n",
        "from nltk import word_tokenize\n",
        "from nltk.util import ngrams\n",
        "from collections import Counter"
      ],
      "execution_count": 40,
      "outputs": []
    },
    {
      "cell_type": "markdown",
      "metadata": {
        "id": "ODsTbxEsMdEq"
      },
      "source": [
        "# Beginning with n-grams"
      ]
    },
    {
      "cell_type": "code",
      "metadata": {
        "id": "nhoT_bNNiYf3"
      },
      "source": [
        "text = \"Hi everyone we can start the assignment by printing basic things\\\n",
        "so that it becomes easy to understand what we actually want to achieve from this\\\n",
        "assignment. Hope you enjoy the practical session of today and if you have any\\\n",
        "doubts you can always reach out to me\"\n",
        "token = nltk.word_tokenize(text)\n",
        "bigrams = ngrams(token,2)\n",
        "trigrams = ngrams(token,3)\n",
        "fourgrams = ngrams(token,4)\n",
        "fivegrams = ngrams(token,5)"
      ],
      "execution_count": 46,
      "outputs": []
    },
    {
      "cell_type": "markdown",
      "metadata": {
        "id": "Crb8FmOtMsMd"
      },
      "source": [
        "# Bigrams"
      ]
    },
    {
      "cell_type": "code",
      "metadata": {
        "colab": {
          "base_uri": "https://localhost:8080/"
        },
        "id": "q8e5mWdShTEk",
        "outputId": "1dfb2e62-c1e6-41d6-ffb2-7a11d25c1853"
      },
      "source": [
        "print(Counter(bigrams))"
      ],
      "execution_count": 47,
      "outputs": [
        {
          "output_type": "stream",
          "text": [
            "Counter({('Hi', 'everyone'): 1, ('everyone', 'we'): 1, ('we', 'can'): 1, ('can', 'start'): 1, ('start', 'the'): 1, ('the', 'assignment'): 1, ('assignment', 'by'): 1, ('by', 'printing'): 1, ('printing', 'basic'): 1, ('basic', 'thingsso'): 1, ('thingsso', 'that'): 1, ('that', 'it'): 1, ('it', 'becomes'): 1, ('becomes', 'easy'): 1, ('easy', 'to'): 1, ('to', 'understand'): 1, ('understand', 'what'): 1, ('what', 'we'): 1, ('we', 'actually'): 1, ('actually', 'want'): 1, ('want', 'to'): 1, ('to', 'achieve'): 1, ('achieve', 'from'): 1, ('from', 'thisassignment'): 1, ('thisassignment', '.'): 1, ('.', 'Hope'): 1, ('Hope', 'you'): 1, ('you', 'enjoy'): 1, ('enjoy', 'the'): 1, ('the', 'practical'): 1, ('practical', 'session'): 1, ('session', 'of'): 1, ('of', 'today'): 1, ('today', 'and'): 1, ('and', 'if'): 1, ('if', 'you'): 1, ('you', 'have'): 1, ('have', 'anydoubts'): 1, ('anydoubts', 'you'): 1, ('you', 'can'): 1, ('can', 'always'): 1, ('always', 'reach'): 1, ('reach', 'out'): 1, ('out', 'to'): 1, ('to', 'me'): 1})\n"
          ],
          "name": "stdout"
        }
      ]
    },
    {
      "cell_type": "markdown",
      "metadata": {
        "id": "0eJ-PrMlMuAX"
      },
      "source": [
        "# Trigrams"
      ]
    },
    {
      "cell_type": "code",
      "metadata": {
        "colab": {
          "base_uri": "https://localhost:8080/"
        },
        "id": "-PE938vqhbNM",
        "outputId": "7f525058-cf62-44ef-ee7d-fd9537bbcc15"
      },
      "source": [
        "print(Counter(trigrams))"
      ],
      "execution_count": 48,
      "outputs": [
        {
          "output_type": "stream",
          "text": [
            "Counter({('Hi', 'everyone', 'we'): 1, ('everyone', 'we', 'can'): 1, ('we', 'can', 'start'): 1, ('can', 'start', 'the'): 1, ('start', 'the', 'assignment'): 1, ('the', 'assignment', 'by'): 1, ('assignment', 'by', 'printing'): 1, ('by', 'printing', 'basic'): 1, ('printing', 'basic', 'thingsso'): 1, ('basic', 'thingsso', 'that'): 1, ('thingsso', 'that', 'it'): 1, ('that', 'it', 'becomes'): 1, ('it', 'becomes', 'easy'): 1, ('becomes', 'easy', 'to'): 1, ('easy', 'to', 'understand'): 1, ('to', 'understand', 'what'): 1, ('understand', 'what', 'we'): 1, ('what', 'we', 'actually'): 1, ('we', 'actually', 'want'): 1, ('actually', 'want', 'to'): 1, ('want', 'to', 'achieve'): 1, ('to', 'achieve', 'from'): 1, ('achieve', 'from', 'thisassignment'): 1, ('from', 'thisassignment', '.'): 1, ('thisassignment', '.', 'Hope'): 1, ('.', 'Hope', 'you'): 1, ('Hope', 'you', 'enjoy'): 1, ('you', 'enjoy', 'the'): 1, ('enjoy', 'the', 'practical'): 1, ('the', 'practical', 'session'): 1, ('practical', 'session', 'of'): 1, ('session', 'of', 'today'): 1, ('of', 'today', 'and'): 1, ('today', 'and', 'if'): 1, ('and', 'if', 'you'): 1, ('if', 'you', 'have'): 1, ('you', 'have', 'anydoubts'): 1, ('have', 'anydoubts', 'you'): 1, ('anydoubts', 'you', 'can'): 1, ('you', 'can', 'always'): 1, ('can', 'always', 'reach'): 1, ('always', 'reach', 'out'): 1, ('reach', 'out', 'to'): 1, ('out', 'to', 'me'): 1})\n"
          ],
          "name": "stdout"
        }
      ]
    },
    {
      "cell_type": "markdown",
      "metadata": {
        "id": "gCPbCUmBM47R"
      },
      "source": [
        "# Fourgrams"
      ]
    },
    {
      "cell_type": "code",
      "metadata": {
        "colab": {
          "base_uri": "https://localhost:8080/"
        },
        "id": "1zcsNSZzhhOJ",
        "outputId": "d3c04628-9286-4f0c-d32e-a6ee3d1b8746"
      },
      "source": [
        "print(Counter(fourgrams))"
      ],
      "execution_count": 49,
      "outputs": [
        {
          "output_type": "stream",
          "text": [
            "Counter({('Hi', 'everyone', 'we', 'can'): 1, ('everyone', 'we', 'can', 'start'): 1, ('we', 'can', 'start', 'the'): 1, ('can', 'start', 'the', 'assignment'): 1, ('start', 'the', 'assignment', 'by'): 1, ('the', 'assignment', 'by', 'printing'): 1, ('assignment', 'by', 'printing', 'basic'): 1, ('by', 'printing', 'basic', 'thingsso'): 1, ('printing', 'basic', 'thingsso', 'that'): 1, ('basic', 'thingsso', 'that', 'it'): 1, ('thingsso', 'that', 'it', 'becomes'): 1, ('that', 'it', 'becomes', 'easy'): 1, ('it', 'becomes', 'easy', 'to'): 1, ('becomes', 'easy', 'to', 'understand'): 1, ('easy', 'to', 'understand', 'what'): 1, ('to', 'understand', 'what', 'we'): 1, ('understand', 'what', 'we', 'actually'): 1, ('what', 'we', 'actually', 'want'): 1, ('we', 'actually', 'want', 'to'): 1, ('actually', 'want', 'to', 'achieve'): 1, ('want', 'to', 'achieve', 'from'): 1, ('to', 'achieve', 'from', 'thisassignment'): 1, ('achieve', 'from', 'thisassignment', '.'): 1, ('from', 'thisassignment', '.', 'Hope'): 1, ('thisassignment', '.', 'Hope', 'you'): 1, ('.', 'Hope', 'you', 'enjoy'): 1, ('Hope', 'you', 'enjoy', 'the'): 1, ('you', 'enjoy', 'the', 'practical'): 1, ('enjoy', 'the', 'practical', 'session'): 1, ('the', 'practical', 'session', 'of'): 1, ('practical', 'session', 'of', 'today'): 1, ('session', 'of', 'today', 'and'): 1, ('of', 'today', 'and', 'if'): 1, ('today', 'and', 'if', 'you'): 1, ('and', 'if', 'you', 'have'): 1, ('if', 'you', 'have', 'anydoubts'): 1, ('you', 'have', 'anydoubts', 'you'): 1, ('have', 'anydoubts', 'you', 'can'): 1, ('anydoubts', 'you', 'can', 'always'): 1, ('you', 'can', 'always', 'reach'): 1, ('can', 'always', 'reach', 'out'): 1, ('always', 'reach', 'out', 'to'): 1, ('reach', 'out', 'to', 'me'): 1})\n"
          ],
          "name": "stdout"
        }
      ]
    },
    {
      "cell_type": "markdown",
      "metadata": {
        "id": "Ov-KnpDRM8XL"
      },
      "source": [
        "# Fivegrams"
      ]
    },
    {
      "cell_type": "code",
      "metadata": {
        "colab": {
          "base_uri": "https://localhost:8080/"
        },
        "id": "IyCJpZZ_hkpM",
        "outputId": "c29758da-f086-4fe1-a84a-572224f1f735"
      },
      "source": [
        "print(Counter(fivegrams))"
      ],
      "execution_count": 50,
      "outputs": [
        {
          "output_type": "stream",
          "text": [
            "Counter({('Hi', 'everyone', 'we', 'can', 'start'): 1, ('everyone', 'we', 'can', 'start', 'the'): 1, ('we', 'can', 'start', 'the', 'assignment'): 1, ('can', 'start', 'the', 'assignment', 'by'): 1, ('start', 'the', 'assignment', 'by', 'printing'): 1, ('the', 'assignment', 'by', 'printing', 'basic'): 1, ('assignment', 'by', 'printing', 'basic', 'thingsso'): 1, ('by', 'printing', 'basic', 'thingsso', 'that'): 1, ('printing', 'basic', 'thingsso', 'that', 'it'): 1, ('basic', 'thingsso', 'that', 'it', 'becomes'): 1, ('thingsso', 'that', 'it', 'becomes', 'easy'): 1, ('that', 'it', 'becomes', 'easy', 'to'): 1, ('it', 'becomes', 'easy', 'to', 'understand'): 1, ('becomes', 'easy', 'to', 'understand', 'what'): 1, ('easy', 'to', 'understand', 'what', 'we'): 1, ('to', 'understand', 'what', 'we', 'actually'): 1, ('understand', 'what', 'we', 'actually', 'want'): 1, ('what', 'we', 'actually', 'want', 'to'): 1, ('we', 'actually', 'want', 'to', 'achieve'): 1, ('actually', 'want', 'to', 'achieve', 'from'): 1, ('want', 'to', 'achieve', 'from', 'thisassignment'): 1, ('to', 'achieve', 'from', 'thisassignment', '.'): 1, ('achieve', 'from', 'thisassignment', '.', 'Hope'): 1, ('from', 'thisassignment', '.', 'Hope', 'you'): 1, ('thisassignment', '.', 'Hope', 'you', 'enjoy'): 1, ('.', 'Hope', 'you', 'enjoy', 'the'): 1, ('Hope', 'you', 'enjoy', 'the', 'practical'): 1, ('you', 'enjoy', 'the', 'practical', 'session'): 1, ('enjoy', 'the', 'practical', 'session', 'of'): 1, ('the', 'practical', 'session', 'of', 'today'): 1, ('practical', 'session', 'of', 'today', 'and'): 1, ('session', 'of', 'today', 'and', 'if'): 1, ('of', 'today', 'and', 'if', 'you'): 1, ('today', 'and', 'if', 'you', 'have'): 1, ('and', 'if', 'you', 'have', 'anydoubts'): 1, ('if', 'you', 'have', 'anydoubts', 'you'): 1, ('you', 'have', 'anydoubts', 'you', 'can'): 1, ('have', 'anydoubts', 'you', 'can', 'always'): 1, ('anydoubts', 'you', 'can', 'always', 'reach'): 1, ('you', 'can', 'always', 'reach', 'out'): 1, ('can', 'always', 'reach', 'out', 'to'): 1, ('always', 'reach', 'out', 'to', 'me'): 1})\n"
          ],
          "name": "stdout"
        }
      ]
    },
    {
      "cell_type": "markdown",
      "metadata": {
        "id": "8oF3Ci-rNAIC"
      },
      "source": [
        "# Working On Real Movie Review Dataset "
      ]
    },
    {
      "cell_type": "code",
      "metadata": {
        "colab": {
          "base_uri": "https://localhost:8080/",
          "height": 206
        },
        "id": "6vzfIIbdify-",
        "outputId": "92915ecf-f4be-4d8d-fbb1-997c1496f6dd"
      },
      "source": [
        "import pandas as pd\n",
        "train_data_sent = pd.read_csv('movie_review.csv')\n",
        "train_data_sent.head()"
      ],
      "execution_count": 51,
      "outputs": [
        {
          "output_type": "execute_result",
          "data": {
            "text/html": [
              "<div>\n",
              "<style scoped>\n",
              "    .dataframe tbody tr th:only-of-type {\n",
              "        vertical-align: middle;\n",
              "    }\n",
              "\n",
              "    .dataframe tbody tr th {\n",
              "        vertical-align: top;\n",
              "    }\n",
              "\n",
              "    .dataframe thead th {\n",
              "        text-align: right;\n",
              "    }\n",
              "</style>\n",
              "<table border=\"1\" class=\"dataframe\">\n",
              "  <thead>\n",
              "    <tr style=\"text-align: right;\">\n",
              "      <th></th>\n",
              "      <th>fold_id</th>\n",
              "      <th>cv_tag</th>\n",
              "      <th>html_id</th>\n",
              "      <th>sent_id</th>\n",
              "      <th>text</th>\n",
              "      <th>tag</th>\n",
              "    </tr>\n",
              "  </thead>\n",
              "  <tbody>\n",
              "    <tr>\n",
              "      <th>0</th>\n",
              "      <td>0</td>\n",
              "      <td>cv000</td>\n",
              "      <td>29590</td>\n",
              "      <td>0</td>\n",
              "      <td>films adapted from comic books have had plenty...</td>\n",
              "      <td>pos</td>\n",
              "    </tr>\n",
              "    <tr>\n",
              "      <th>1</th>\n",
              "      <td>0</td>\n",
              "      <td>cv000</td>\n",
              "      <td>29590</td>\n",
              "      <td>1</td>\n",
              "      <td>for starters , it was created by alan moore ( ...</td>\n",
              "      <td>pos</td>\n",
              "    </tr>\n",
              "    <tr>\n",
              "      <th>2</th>\n",
              "      <td>0</td>\n",
              "      <td>cv000</td>\n",
              "      <td>29590</td>\n",
              "      <td>2</td>\n",
              "      <td>to say moore and campbell thoroughly researche...</td>\n",
              "      <td>pos</td>\n",
              "    </tr>\n",
              "    <tr>\n",
              "      <th>3</th>\n",
              "      <td>0</td>\n",
              "      <td>cv000</td>\n",
              "      <td>29590</td>\n",
              "      <td>3</td>\n",
              "      <td>the book ( or \" graphic novel , \" if you will ...</td>\n",
              "      <td>pos</td>\n",
              "    </tr>\n",
              "    <tr>\n",
              "      <th>4</th>\n",
              "      <td>0</td>\n",
              "      <td>cv000</td>\n",
              "      <td>29590</td>\n",
              "      <td>4</td>\n",
              "      <td>in other words , don't dismiss this film becau...</td>\n",
              "      <td>pos</td>\n",
              "    </tr>\n",
              "  </tbody>\n",
              "</table>\n",
              "</div>"
            ],
            "text/plain": [
              "   fold_id cv_tag  ...                                               text  tag\n",
              "0        0  cv000  ...  films adapted from comic books have had plenty...  pos\n",
              "1        0  cv000  ...  for starters , it was created by alan moore ( ...  pos\n",
              "2        0  cv000  ...  to say moore and campbell thoroughly researche...  pos\n",
              "3        0  cv000  ...  the book ( or \" graphic novel , \" if you will ...  pos\n",
              "4        0  cv000  ...  in other words , don't dismiss this film becau...  pos\n",
              "\n",
              "[5 rows x 6 columns]"
            ]
          },
          "metadata": {
            "tags": []
          },
          "execution_count": 51
        }
      ]
    },
    {
      "cell_type": "code",
      "metadata": {
        "id": "3vY79eZwtn7T"
      },
      "source": [
        "import pandas as pd\n",
        "import numpy as np\n",
        "import math\n",
        "import matplotlib.pyplot as plt\n",
        "import re\n",
        "import glob\n",
        "import random\n",
        "import seaborn as sns\n",
        "import string "
      ],
      "execution_count": 52,
      "outputs": []
    },
    {
      "cell_type": "markdown",
      "metadata": {
        "id": "mOFEc2LLNSyd"
      },
      "source": [
        "# Data Preprocessing"
      ]
    },
    {
      "cell_type": "code",
      "metadata": {
        "id": "lmfJRW8mtstE"
      },
      "source": [
        "train_data_sent['sentence_clean'] = train_data_sent['text'].str.replace('[{}]'.format(string.punctuation), '')\n",
        "train_data_sent['sentence_clean'] = train_data_sent['sentence_clean'].str.lower()\n",
        "#train_data_senti=train_data_sent\n",
        "train_data_sent = train_data_sent.head(1000)\n"
      ],
      "execution_count": 53,
      "outputs": []
    },
    {
      "cell_type": "code",
      "metadata": {
        "colab": {
          "base_uri": "https://localhost:8080/",
          "height": 206
        },
        "id": "YAeKkFFf7OaK",
        "outputId": "589a0518-742e-4632-9b7f-a631f743d8b1"
      },
      "source": [
        "train_data_sent.head()"
      ],
      "execution_count": 54,
      "outputs": [
        {
          "output_type": "execute_result",
          "data": {
            "text/html": [
              "<div>\n",
              "<style scoped>\n",
              "    .dataframe tbody tr th:only-of-type {\n",
              "        vertical-align: middle;\n",
              "    }\n",
              "\n",
              "    .dataframe tbody tr th {\n",
              "        vertical-align: top;\n",
              "    }\n",
              "\n",
              "    .dataframe thead th {\n",
              "        text-align: right;\n",
              "    }\n",
              "</style>\n",
              "<table border=\"1\" class=\"dataframe\">\n",
              "  <thead>\n",
              "    <tr style=\"text-align: right;\">\n",
              "      <th></th>\n",
              "      <th>fold_id</th>\n",
              "      <th>cv_tag</th>\n",
              "      <th>html_id</th>\n",
              "      <th>sent_id</th>\n",
              "      <th>text</th>\n",
              "      <th>tag</th>\n",
              "      <th>sentence_clean</th>\n",
              "    </tr>\n",
              "  </thead>\n",
              "  <tbody>\n",
              "    <tr>\n",
              "      <th>0</th>\n",
              "      <td>0</td>\n",
              "      <td>cv000</td>\n",
              "      <td>29590</td>\n",
              "      <td>0</td>\n",
              "      <td>films adapted from comic books have had plenty...</td>\n",
              "      <td>pos</td>\n",
              "      <td>films adapted from comic books have had plenty...</td>\n",
              "    </tr>\n",
              "    <tr>\n",
              "      <th>1</th>\n",
              "      <td>0</td>\n",
              "      <td>cv000</td>\n",
              "      <td>29590</td>\n",
              "      <td>1</td>\n",
              "      <td>for starters , it was created by alan moore ( ...</td>\n",
              "      <td>pos</td>\n",
              "      <td>for starters  it was created by alan moore  an...</td>\n",
              "    </tr>\n",
              "    <tr>\n",
              "      <th>2</th>\n",
              "      <td>0</td>\n",
              "      <td>cv000</td>\n",
              "      <td>29590</td>\n",
              "      <td>2</td>\n",
              "      <td>to say moore and campbell thoroughly researche...</td>\n",
              "      <td>pos</td>\n",
              "      <td>to say moore and campbell thoroughly researche...</td>\n",
              "    </tr>\n",
              "    <tr>\n",
              "      <th>3</th>\n",
              "      <td>0</td>\n",
              "      <td>cv000</td>\n",
              "      <td>29590</td>\n",
              "      <td>3</td>\n",
              "      <td>the book ( or \" graphic novel , \" if you will ...</td>\n",
              "      <td>pos</td>\n",
              "      <td>the book  or  graphic novel   if you will  is ...</td>\n",
              "    </tr>\n",
              "    <tr>\n",
              "      <th>4</th>\n",
              "      <td>0</td>\n",
              "      <td>cv000</td>\n",
              "      <td>29590</td>\n",
              "      <td>4</td>\n",
              "      <td>in other words , don't dismiss this film becau...</td>\n",
              "      <td>pos</td>\n",
              "      <td>in other words  dont dismiss this film because...</td>\n",
              "    </tr>\n",
              "  </tbody>\n",
              "</table>\n",
              "</div>"
            ],
            "text/plain": [
              "   fold_id cv_tag  ...  tag                                     sentence_clean\n",
              "0        0  cv000  ...  pos  films adapted from comic books have had plenty...\n",
              "1        0  cv000  ...  pos  for starters  it was created by alan moore  an...\n",
              "2        0  cv000  ...  pos  to say moore and campbell thoroughly researche...\n",
              "3        0  cv000  ...  pos  the book  or  graphic novel   if you will  is ...\n",
              "4        0  cv000  ...  pos  in other words  dont dismiss this film because...\n",
              "\n",
              "[5 rows x 7 columns]"
            ]
          },
          "metadata": {
            "tags": []
          },
          "execution_count": 54
        }
      ]
    },
    {
      "cell_type": "markdown",
      "metadata": {
        "id": "4gpylhYWFseJ"
      },
      "source": [
        "# Bigram Implementation\n"
      ]
    },
    {
      "cell_type": "code",
      "metadata": {
        "id": "78WjUoAk7oaM"
      },
      "source": [
        "from collections import defaultdict\n",
        "from nltk import bigrams, trigrams\n",
        "from collections import Counter\n",
        "\n",
        "model_2 = defaultdict(lambda: defaultdict(lambda:0))\n",
        "\n",
        "for sentence in train_data_sent['sentence_clean']:\n",
        "  #Split the sentence into bigrams inorder to count the frequencies of the bigrams\n",
        "  for w1, w2 in bigrams(sentence.split(), pad_right=True, pad_left=True):\n",
        "    model_2[(w1)][w2] += 1\n",
        "\n"
      ],
      "execution_count": 55,
      "outputs": []
    },
    {
      "cell_type": "code",
      "metadata": {
        "colab": {
          "base_uri": "https://localhost:8080/"
        },
        "id": "3OjfYllZHoCe",
        "outputId": "2a63cf21-aa64-4021-e3d2-1ae779d45c98"
      },
      "source": [
        "model_2['apart']"
      ],
      "execution_count": 56,
      "outputs": [
        {
          "output_type": "execute_result",
          "data": {
            "text/plain": [
              "defaultdict(<function __main__.<lambda>.<locals>.<lambda>>,\n",
              "            {'as': 1, 'in': 1, 'tommys': 1})"
            ]
          },
          "metadata": {
            "tags": []
          },
          "execution_count": 56
        }
      ]
    },
    {
      "cell_type": "code",
      "metadata": {
        "colab": {
          "base_uri": "https://localhost:8080/"
        },
        "id": "5DgBKDoTHyiP",
        "outputId": "6285aabe-da21-4a16-eb51-0296dfebc653"
      },
      "source": [
        "print(\"The Number of times *america after* bigram has existed is \",model_2['america']['after'])"
      ],
      "execution_count": 57,
      "outputs": [
        {
          "output_type": "stream",
          "text": [
            "The Number of times *america after* bigram has existed is  1\n"
          ],
          "name": "stdout"
        }
      ]
    },
    {
      "cell_type": "code",
      "metadata": {
        "id": "jdvdj2LkH65k"
      },
      "source": [
        "for w1 in model_2:\n",
        "  total_count = float(sum(model_2[w1].values()))\n",
        "  for w2 in model_2[w1]:\n",
        "    model_2[w1][w2] /= total_count\n",
        "\n"
      ],
      "execution_count": 59,
      "outputs": []
    },
    {
      "cell_type": "code",
      "metadata": {
        "colab": {
          "base_uri": "https://localhost:8080/"
        },
        "id": "xuaZdwtgIZQd",
        "outputId": "e3f2e5d5-813b-4ebe-8dbd-d8280a9a53f3"
      },
      "source": [
        "model_2[('apart')]"
      ],
      "execution_count": 60,
      "outputs": [
        {
          "output_type": "execute_result",
          "data": {
            "text/plain": [
              "defaultdict(<function __main__.<lambda>.<locals>.<lambda>>,\n",
              "            {'as': 0.3333333333333333,\n",
              "             'in': 0.3333333333333333,\n",
              "             'tommys': 0.3333333333333333})"
            ]
          },
          "metadata": {
            "tags": []
          },
          "execution_count": 60
        }
      ]
    },
    {
      "cell_type": "markdown",
      "metadata": {
        "id": "izXgLmGpIc6s"
      },
      "source": [
        "# Trigrams Implementation"
      ]
    },
    {
      "cell_type": "code",
      "metadata": {
        "id": "oxkKKgngIgBd"
      },
      "source": [
        "from collections import defaultdict\n",
        "from nltk import bigrams, trigrams\n",
        "from collections import Counter\n",
        "\n",
        "model_2 = defaultdict(lambda: defaultdict(lambda:0))\n",
        "\n",
        "for sentence in train_data_sent['sentence_clean']:\n",
        "  #Split the sentence into trigrams inorder to count the frequencies of the trigrams\n",
        "  for w1, w2, w3 in trigrams(sentence.split(), pad_right=True, pad_left=True):\n",
        "    model_2[(w1,w2)][w3] += 1"
      ],
      "execution_count": 62,
      "outputs": []
    },
    {
      "cell_type": "code",
      "metadata": {
        "colab": {
          "base_uri": "https://localhost:8080/"
        },
        "id": "QshfOn37Kvf9",
        "outputId": "065590af-0c10-40cf-a039-f5f7bce42dad"
      },
      "source": [
        "model_2['it','was']"
      ],
      "execution_count": 63,
      "outputs": [
        {
          "output_type": "execute_result",
          "data": {
            "text/plain": [
              "defaultdict(<function __main__.<lambda>.<locals>.<lambda>>,\n",
              "            {'also': 1,\n",
              "             'based': 1,\n",
              "             'created': 1,\n",
              "             'interesting': 1,\n",
              "             'nothing': 1,\n",
              "             'schreber': 1,\n",
              "             'too': 1,\n",
              "             'unceremoniously': 1,\n",
              "             'very': 1})"
            ]
          },
          "metadata": {
            "tags": []
          },
          "execution_count": 63
        }
      ]
    },
    {
      "cell_type": "code",
      "metadata": {
        "colab": {
          "base_uri": "https://localhost:8080/"
        },
        "id": "rkRSCnl6Ix2m",
        "outputId": "24ada9d5-949e-493e-bba5-1f0a3a601fc6"
      },
      "source": [
        "model_2['the','book']"
      ],
      "execution_count": 64,
      "outputs": [
        {
          "output_type": "execute_result",
          "data": {
            "text/plain": [
              "defaultdict(<function __main__.<lambda>.<locals>.<lambda>>,\n",
              "            {'as': 1, 'of': 1, 'or': 1})"
            ]
          },
          "metadata": {
            "tags": []
          },
          "execution_count": 64
        }
      ]
    },
    {
      "cell_type": "code",
      "metadata": {
        "colab": {
          "base_uri": "https://localhost:8080/"
        },
        "id": "jWD7JPioJGmR",
        "outputId": "398198aa-8db0-4a86-fb72-0537752c8229"
      },
      "source": [
        "print(\"The Number of times *the book or* trigram has existed is \",model_2['the','book']['or'])"
      ],
      "execution_count": 65,
      "outputs": [
        {
          "output_type": "stream",
          "text": [
            "The Number of times *the book or* trigram has existed is  1\n"
          ],
          "name": "stdout"
        }
      ]
    },
    {
      "cell_type": "code",
      "metadata": {
        "id": "84yL5IFLJVO3"
      },
      "source": [
        "for w1,w2 in model_2:\n",
        "  total_count = float(sum(model_2[w1,w2].values()))\n",
        "  for w3 in model_2[w1, w2]:\n",
        "    model_2[w1,w2][w3] /= total_count\n"
      ],
      "execution_count": 66,
      "outputs": []
    },
    {
      "cell_type": "code",
      "metadata": {
        "colab": {
          "base_uri": "https://localhost:8080/"
        },
        "id": "8ev0GN1HJsdr",
        "outputId": "0fa0cca7-ff81-4d8e-f549-20d628f8a5d5"
      },
      "source": [
        "model_2[('the','book')]"
      ],
      "execution_count": 67,
      "outputs": [
        {
          "output_type": "execute_result",
          "data": {
            "text/plain": [
              "defaultdict(<function __main__.<lambda>.<locals>.<lambda>>,\n",
              "            {'as': 0.3333333333333333,\n",
              "             'of': 0.3333333333333333,\n",
              "             'or': 0.3333333333333333})"
            ]
          },
          "metadata": {
            "tags": []
          },
          "execution_count": 67
        }
      ]
    },
    {
      "cell_type": "code",
      "metadata": {
        "colab": {
          "base_uri": "https://localhost:8080/"
        },
        "id": "ONGUYclAKjbF",
        "outputId": "3e0bc6b1-c89e-42a1-d8ae-574b7614cc29"
      },
      "source": [
        "model_2[('it','was')]"
      ],
      "execution_count": 69,
      "outputs": [
        {
          "output_type": "execute_result",
          "data": {
            "text/plain": [
              "defaultdict(<function __main__.<lambda>.<locals>.<lambda>>,\n",
              "            {'also': 0.1111111111111111,\n",
              "             'based': 0.1111111111111111,\n",
              "             'created': 0.1111111111111111,\n",
              "             'interesting': 0.1111111111111111,\n",
              "             'nothing': 0.1111111111111111,\n",
              "             'schreber': 0.1111111111111111,\n",
              "             'too': 0.1111111111111111,\n",
              "             'unceremoniously': 0.1111111111111111,\n",
              "             'very': 0.1111111111111111})"
            ]
          },
          "metadata": {
            "tags": []
          },
          "execution_count": 69
        }
      ]
    }
  ]
}